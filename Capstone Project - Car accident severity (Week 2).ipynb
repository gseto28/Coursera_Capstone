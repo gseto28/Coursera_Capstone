{
    "cells": [
        {
            "cell_type": "markdown",
            "metadata": {
                "collapsed": true
            },
            "source": "# Capstone Project - Car Accident Severity\n\nhttps://www.coursera.org/learn/applied-data-science-capstone"
        },
        {
            "cell_type": "markdown",
            "metadata": {},
            "source": "## Table of Contents\n* [Introduction: Business Understanding/Problem ](#Introduction)\n* [Data](#Data)\n    * [Data Gathering](#DataGathering)\n\t* [Clean up missing data](#CleanUpMissingData)\n    * [Check Data Inconsistencies](#CheckDataInconsistencies)\n\t\t* [Check SEVERITYCODE](#CheckSEVERITYCODE)\n\t\t* [Check PERSONCOUNT](#CheckPERSONCOUNT)\n\t\t* [Check PEDCOUNT](#CheckPEDCOUNT)\n\t\t* [Check PEDCYLCOUNT](#CheckPEDCYLCOUNT)\n\t\t* [Check VEHCOUNT](#CheckVEHCOUNT)\n\t\t* [Check COLLISIONTYPE](#CheckCOLLISIONTYPE)\n\t\t* [Check JUNCTIONTYPE](#CheckJUNCTIONTYPE)\n\t* [Data Normalization](#DataNormalization)\n* [Methodology](#Methodology)\n* [Data Analysis](#DataAnalysis)\n\t* [Linear Regression Analysis](#LinearRegressionAnalysis)\n\t* [Polynomial Feature Analysis](#PolynomialFeatureAnalysis)\n    * [Ridge Regression Analysis](#RidgeRegressionAnalysis)\n\t* [Grid Search Analysis](#GridSearchAnalysis)\n* [Result and Discussion](#ResultAndDiscussion)\n* [Conclusion](#Conclusion)"
        },
        {
            "cell_type": "markdown",
            "metadata": {},
            "source": "# Introduction: Business Understanding/Problem \n\n<a name=\"Introduction\"></a>"
        },
        {
            "cell_type": "markdown",
            "metadata": {},
            "source": "In this project we are trying to determine the severity of a car accident in Seattle and how we can prevent severe car accidents.\n\nDispatch has a tough enough job already. We are interested in helping dispatches' day to day job with a recommender system to determine the severity of a car accident to determine law enforcement response and medical response.\n\nWe will generate a model from our data analysis to better predict the severity of the accident. We hope that this will better help dispatch, allocate the right amount of resource to the issue at hand, and protect the citizens of Seattle"
        },
        {
            "cell_type": "markdown",
            "metadata": {},
            "source": "# Data\n\n<a name=\"Data\"></a>"
        },
        {
            "cell_type": "markdown",
            "metadata": {},
            "source": "## Imports"
        },
        {
            "cell_type": "code",
            "execution_count": 1,
            "metadata": {},
            "outputs": [
                {
                    "name": "stdout",
                    "output_type": "stream",
                    "text": "Matplotlib version:  3.0.2\n"
                }
            ],
            "source": "# use the inline backend to generate the plots within the browser\n%matplotlib inline \n\nimport matplotlib as mpl\nimport matplotlib.pyplot as plt\n\n# check for latest version of Matplotlib\nprint ('Matplotlib version: ', mpl.__version__) # >= 2.0.0"
        },
        {
            "cell_type": "code",
            "execution_count": 2,
            "metadata": {},
            "outputs": [],
            "source": "from sklearn.linear_model import LinearRegression\nfrom sklearn.model_selection import train_test_split"
        },
        {
            "cell_type": "code",
            "execution_count": 3,
            "metadata": {},
            "outputs": [],
            "source": "import types\nimport pandas as pd\nimport numpy as np\nfrom botocore.client import Config\nimport ibm_boto3"
        },
        {
            "cell_type": "markdown",
            "metadata": {},
            "source": "## Data Gathering\n\n<a name=\"DataGathering\"></a>"
        },
        {
            "cell_type": "markdown",
            "metadata": {},
            "source": "Let's look at the data to determine what we have. This is the data that is provided by for the project."
        },
        {
            "cell_type": "code",
            "execution_count": 4,
            "metadata": {
                "scrolled": true
            },
            "outputs": [
                {
                    "name": "stderr",
                    "output_type": "stream",
                    "text": "/opt/conda/envs/Python36/lib/python3.6/site-packages/IPython/core/interactiveshell.py:3020: DtypeWarning: Columns (33) have mixed types. Specify dtype option on import or set low_memory=False.\n  interactivity=interactivity, compiler=compiler, result=result)\n"
                },
                {
                    "data": {
                        "text/html": "<div>\n<style scoped>\n    .dataframe tbody tr th:only-of-type {\n        vertical-align: middle;\n    }\n\n    .dataframe tbody tr th {\n        vertical-align: top;\n    }\n\n    .dataframe thead th {\n        text-align: right;\n    }\n</style>\n<table border=\"1\" class=\"dataframe\">\n  <thead>\n    <tr style=\"text-align: right;\">\n      <th></th>\n      <th>SEVERITYCODE</th>\n      <th>X</th>\n      <th>Y</th>\n      <th>OBJECTID</th>\n      <th>INCKEY</th>\n      <th>COLDETKEY</th>\n      <th>REPORTNO</th>\n      <th>STATUS</th>\n      <th>ADDRTYPE</th>\n      <th>INTKEY</th>\n      <th>...</th>\n      <th>ROADCOND</th>\n      <th>LIGHTCOND</th>\n      <th>PEDROWNOTGRNT</th>\n      <th>SDOTCOLNUM</th>\n      <th>SPEEDING</th>\n      <th>ST_COLCODE</th>\n      <th>ST_COLDESC</th>\n      <th>SEGLANEKEY</th>\n      <th>CROSSWALKKEY</th>\n      <th>HITPARKEDCAR</th>\n    </tr>\n  </thead>\n  <tbody>\n    <tr>\n      <th>0</th>\n      <td>2</td>\n      <td>-122.323148</td>\n      <td>47.703140</td>\n      <td>1</td>\n      <td>1307</td>\n      <td>1307</td>\n      <td>3502005</td>\n      <td>Matched</td>\n      <td>Intersection</td>\n      <td>37475.0</td>\n      <td>...</td>\n      <td>Wet</td>\n      <td>Daylight</td>\n      <td>NaN</td>\n      <td>NaN</td>\n      <td>NaN</td>\n      <td>10</td>\n      <td>Entering at angle</td>\n      <td>0</td>\n      <td>0</td>\n      <td>N</td>\n    </tr>\n    <tr>\n      <th>1</th>\n      <td>1</td>\n      <td>-122.347294</td>\n      <td>47.647172</td>\n      <td>2</td>\n      <td>52200</td>\n      <td>52200</td>\n      <td>2607959</td>\n      <td>Matched</td>\n      <td>Block</td>\n      <td>NaN</td>\n      <td>...</td>\n      <td>Wet</td>\n      <td>Dark - Street Lights On</td>\n      <td>NaN</td>\n      <td>6354039.0</td>\n      <td>NaN</td>\n      <td>11</td>\n      <td>From same direction - both going straight - bo...</td>\n      <td>0</td>\n      <td>0</td>\n      <td>N</td>\n    </tr>\n    <tr>\n      <th>2</th>\n      <td>1</td>\n      <td>-122.334540</td>\n      <td>47.607871</td>\n      <td>3</td>\n      <td>26700</td>\n      <td>26700</td>\n      <td>1482393</td>\n      <td>Matched</td>\n      <td>Block</td>\n      <td>NaN</td>\n      <td>...</td>\n      <td>Dry</td>\n      <td>Daylight</td>\n      <td>NaN</td>\n      <td>4323031.0</td>\n      <td>NaN</td>\n      <td>32</td>\n      <td>One parked--one moving</td>\n      <td>0</td>\n      <td>0</td>\n      <td>N</td>\n    </tr>\n    <tr>\n      <th>3</th>\n      <td>1</td>\n      <td>-122.334803</td>\n      <td>47.604803</td>\n      <td>4</td>\n      <td>1144</td>\n      <td>1144</td>\n      <td>3503937</td>\n      <td>Matched</td>\n      <td>Block</td>\n      <td>NaN</td>\n      <td>...</td>\n      <td>Dry</td>\n      <td>Daylight</td>\n      <td>NaN</td>\n      <td>NaN</td>\n      <td>NaN</td>\n      <td>23</td>\n      <td>From same direction - all others</td>\n      <td>0</td>\n      <td>0</td>\n      <td>N</td>\n    </tr>\n    <tr>\n      <th>4</th>\n      <td>2</td>\n      <td>-122.306426</td>\n      <td>47.545739</td>\n      <td>5</td>\n      <td>17700</td>\n      <td>17700</td>\n      <td>1807429</td>\n      <td>Matched</td>\n      <td>Intersection</td>\n      <td>34387.0</td>\n      <td>...</td>\n      <td>Wet</td>\n      <td>Daylight</td>\n      <td>NaN</td>\n      <td>4028032.0</td>\n      <td>NaN</td>\n      <td>10</td>\n      <td>Entering at angle</td>\n      <td>0</td>\n      <td>0</td>\n      <td>N</td>\n    </tr>\n  </tbody>\n</table>\n<p>5 rows \u00d7 38 columns</p>\n</div>",
                        "text/plain": "   SEVERITYCODE           X          Y  OBJECTID  INCKEY  COLDETKEY REPORTNO  \\\n0             2 -122.323148  47.703140         1    1307       1307  3502005   \n1             1 -122.347294  47.647172         2   52200      52200  2607959   \n2             1 -122.334540  47.607871         3   26700      26700  1482393   \n3             1 -122.334803  47.604803         4    1144       1144  3503937   \n4             2 -122.306426  47.545739         5   17700      17700  1807429   \n\n    STATUS      ADDRTYPE   INTKEY  ... ROADCOND                LIGHTCOND  \\\n0  Matched  Intersection  37475.0  ...      Wet                 Daylight   \n1  Matched         Block      NaN  ...      Wet  Dark - Street Lights On   \n2  Matched         Block      NaN  ...      Dry                 Daylight   \n3  Matched         Block      NaN  ...      Dry                 Daylight   \n4  Matched  Intersection  34387.0  ...      Wet                 Daylight   \n\n  PEDROWNOTGRNT  SDOTCOLNUM SPEEDING ST_COLCODE  \\\n0           NaN         NaN      NaN         10   \n1           NaN   6354039.0      NaN         11   \n2           NaN   4323031.0      NaN         32   \n3           NaN         NaN      NaN         23   \n4           NaN   4028032.0      NaN         10   \n\n                                          ST_COLDESC  SEGLANEKEY  \\\n0                                  Entering at angle           0   \n1  From same direction - both going straight - bo...           0   \n2                             One parked--one moving           0   \n3                   From same direction - all others           0   \n4                                  Entering at angle           0   \n\n   CROSSWALKKEY  HITPARKEDCAR  \n0             0             N  \n1             0             N  \n2             0             N  \n3             0             N  \n4             0             N  \n\n[5 rows x 38 columns]"
                    },
                    "execution_count": 4,
                    "metadata": {},
                    "output_type": "execute_result"
                }
            ],
            "source": "# The code was removed by Watson Studio for sharing."
        },
        {
            "cell_type": "markdown",
            "metadata": {},
            "source": "There are 37 features we can choose from to use in our model to predict the severity code"
        },
        {
            "cell_type": "code",
            "execution_count": 5,
            "metadata": {},
            "outputs": [
                {
                    "data": {
                        "text/plain": "1    136485\n2     58188\nName: SEVERITYCODE, dtype: int64"
                    },
                    "execution_count": 5,
                    "metadata": {},
                    "output_type": "execute_result"
                }
            ],
            "source": "df_data['SEVERITYCODE'].value_counts(dropna=False)"
        },
        {
            "cell_type": "markdown",
            "metadata": {},
            "source": "According to the metadata, there should be 5 types of severity.\n* 3-fatality\n* 2b-serious injury\n* 2-injury\n* 1-property damage\n* 0-unknown\n\nIt is concerning that the data provided only has severity types 1 and 2. This may severely impact the machine learning model and does not provide us with sufficient data to determine all the types of severity."
        },
        {
            "cell_type": "markdown",
            "metadata": {},
            "source": "It has been determined that the above dataset is insufficient so we have went out and found a more updates data set from http://data-seattlecitygis.opendata.arcgis.com/datasets/5b5c745e0f1f48e7a53acec63a0022ab_0.csv"
        },
        {
            "cell_type": "code",
            "execution_count": 6,
            "metadata": {
                "scrolled": true
            },
            "outputs": [
                {
                    "data": {
                        "text/html": "<div>\n<style scoped>\n    .dataframe tbody tr th:only-of-type {\n        vertical-align: middle;\n    }\n\n    .dataframe tbody tr th {\n        vertical-align: top;\n    }\n\n    .dataframe thead th {\n        text-align: right;\n    }\n</style>\n<table border=\"1\" class=\"dataframe\">\n  <thead>\n    <tr style=\"text-align: right;\">\n      <th></th>\n      <th>X</th>\n      <th>Y</th>\n      <th>OBJECTID</th>\n      <th>INCKEY</th>\n      <th>COLDETKEY</th>\n      <th>REPORTNO</th>\n      <th>STATUS</th>\n      <th>ADDRTYPE</th>\n      <th>INTKEY</th>\n      <th>LOCATION</th>\n      <th>...</th>\n      <th>ROADCOND</th>\n      <th>LIGHTCOND</th>\n      <th>PEDROWNOTGRNT</th>\n      <th>SDOTCOLNUM</th>\n      <th>SPEEDING</th>\n      <th>ST_COLCODE</th>\n      <th>ST_COLDESC</th>\n      <th>SEGLANEKEY</th>\n      <th>CROSSWALKKEY</th>\n      <th>HITPARKEDCAR</th>\n    </tr>\n  </thead>\n  <tbody>\n    <tr>\n      <th>0</th>\n      <td>-122.392900</td>\n      <td>47.648646</td>\n      <td>1</td>\n      <td>332176</td>\n      <td>333676</td>\n      <td>EA40602</td>\n      <td>Matched</td>\n      <td>Intersection</td>\n      <td>26581.0</td>\n      <td>28TH AVE W AND W DRAVUS ST</td>\n      <td>...</td>\n      <td>Dry</td>\n      <td>Daylight</td>\n      <td>NaN</td>\n      <td>NaN</td>\n      <td>NaN</td>\n      <td>14</td>\n      <td>From same direction - both going straight - on...</td>\n      <td>0</td>\n      <td>0</td>\n      <td>N</td>\n    </tr>\n    <tr>\n      <th>1</th>\n      <td>-122.284487</td>\n      <td>47.603308</td>\n      <td>2</td>\n      <td>328504</td>\n      <td>330004</td>\n      <td>EA10294</td>\n      <td>Unmatched</td>\n      <td>Block</td>\n      <td>NaN</td>\n      <td>LAKE WASHINGTON BLVD BETWEEN LAKESIDE AVE AND ...</td>\n      <td>...</td>\n      <td>NaN</td>\n      <td>NaN</td>\n      <td>NaN</td>\n      <td>NaN</td>\n      <td>NaN</td>\n      <td></td>\n      <td>NaN</td>\n      <td>0</td>\n      <td>0</td>\n      <td>Y</td>\n    </tr>\n    <tr>\n      <th>2</th>\n      <td>-122.338480</td>\n      <td>47.619119</td>\n      <td>3</td>\n      <td>329091</td>\n      <td>330591</td>\n      <td>EA15604</td>\n      <td>Matched</td>\n      <td>Block</td>\n      <td>NaN</td>\n      <td>WESTLAKE AVE N BETWEEN DENNY WAY AND JOHN ST</td>\n      <td>...</td>\n      <td>Dry</td>\n      <td>Daylight</td>\n      <td>NaN</td>\n      <td>NaN</td>\n      <td>NaN</td>\n      <td>11</td>\n      <td>From same direction - both going straight - bo...</td>\n      <td>0</td>\n      <td>0</td>\n      <td>N</td>\n    </tr>\n    <tr>\n      <th>3</th>\n      <td>-122.358307</td>\n      <td>47.653110</td>\n      <td>4</td>\n      <td>328274</td>\n      <td>329774</td>\n      <td>EA07215</td>\n      <td>Matched</td>\n      <td>Block</td>\n      <td>NaN</td>\n      <td>NW 36TH ST BETWEEN 1ST AVE NW AND LEARY WAY NW</td>\n      <td>...</td>\n      <td>Wet</td>\n      <td>Dark - Street Lights On</td>\n      <td>NaN</td>\n      <td>NaN</td>\n      <td>NaN</td>\n      <td>32</td>\n      <td>One parked--one moving</td>\n      <td>0</td>\n      <td>0</td>\n      <td>Y</td>\n    </tr>\n    <tr>\n      <th>4</th>\n      <td>-122.296519</td>\n      <td>47.733786</td>\n      <td>5</td>\n      <td>329003</td>\n      <td>330503</td>\n      <td>E986969</td>\n      <td>Matched</td>\n      <td>Intersection</td>\n      <td>35990.0</td>\n      <td>30TH AVE NE AND NE 145TH ST</td>\n      <td>...</td>\n      <td>Dry</td>\n      <td>Daylight</td>\n      <td>NaN</td>\n      <td>NaN</td>\n      <td>NaN</td>\n      <td>10</td>\n      <td>Entering at angle</td>\n      <td>0</td>\n      <td>0</td>\n      <td>N</td>\n    </tr>\n  </tbody>\n</table>\n<p>5 rows \u00d7 40 columns</p>\n</div>",
                        "text/plain": "            X          Y  OBJECTID  INCKEY  COLDETKEY REPORTNO     STATUS  \\\n0 -122.392900  47.648646         1  332176     333676  EA40602    Matched   \n1 -122.284487  47.603308         2  328504     330004  EA10294  Unmatched   \n2 -122.338480  47.619119         3  329091     330591  EA15604    Matched   \n3 -122.358307  47.653110         4  328274     329774  EA07215    Matched   \n4 -122.296519  47.733786         5  329003     330503  E986969    Matched   \n\n       ADDRTYPE   INTKEY                                           LOCATION  \\\n0  Intersection  26581.0                         28TH AVE W AND W DRAVUS ST   \n1         Block      NaN  LAKE WASHINGTON BLVD BETWEEN LAKESIDE AVE AND ...   \n2         Block      NaN       WESTLAKE AVE N BETWEEN DENNY WAY AND JOHN ST   \n3         Block      NaN     NW 36TH ST BETWEEN 1ST AVE NW AND LEARY WAY NW   \n4  Intersection  35990.0                        30TH AVE NE AND NE 145TH ST   \n\n   ... ROADCOND                LIGHTCOND PEDROWNOTGRNT SDOTCOLNUM SPEEDING  \\\n0  ...      Dry                 Daylight           NaN        NaN      NaN   \n1  ...      NaN                      NaN           NaN        NaN      NaN   \n2  ...      Dry                 Daylight           NaN        NaN      NaN   \n3  ...      Wet  Dark - Street Lights On           NaN        NaN      NaN   \n4  ...      Dry                 Daylight           NaN        NaN      NaN   \n\n   ST_COLCODE                                         ST_COLDESC  SEGLANEKEY  \\\n0          14  From same direction - both going straight - on...           0   \n1                                                            NaN           0   \n2          11  From same direction - both going straight - bo...           0   \n3          32                             One parked--one moving           0   \n4          10                                  Entering at angle           0   \n\n   CROSSWALKKEY  HITPARKEDCAR  \n0             0             N  \n1             0             Y  \n2             0             N  \n3             0             Y  \n4             0             N  \n\n[5 rows x 40 columns]"
                    },
                    "execution_count": 6,
                    "metadata": {},
                    "output_type": "execute_result"
                }
            ],
            "source": "# The code was removed by Watson Studio for sharing."
        },
        {
            "cell_type": "code",
            "execution_count": 7,
            "metadata": {},
            "outputs": [
                {
                    "data": {
                        "text/plain": "1      137297\n2       58607\n0       21593\n2b       3090\n3         349\nNaN         1\nName: SEVERITYCODE, dtype: int64"
                    },
                    "execution_count": 7,
                    "metadata": {},
                    "output_type": "execute_result"
                }
            ],
            "source": "df_data_updated['SEVERITYCODE'].value_counts(dropna=False)"
        },
        {
            "cell_type": "markdown",
            "metadata": {},
            "source": "Alright! This is more like it!"
        },
        {
            "cell_type": "markdown",
            "metadata": {},
            "source": "We will be using the following features to determine the severity code:\n* COLLISIONTYPE\n* PERSONCOUNT\n* PEDCOUNT\n* PEDCYLCOUNT\n* VEHCOUNT\n* JUNCTIONTYPE"
        },
        {
            "cell_type": "markdown",
            "metadata": {},
            "source": "## Clean up missing data\n\n<a name=\"CleanUpMissingData\"></a>"
        },
        {
            "cell_type": "markdown",
            "metadata": {},
            "source": "Any data with NaN does not provide much analysis for the data. Those data will be discarded\n\nDropping rows with SEVERITYCODE = 0 or NaN since they do not have enough information to build the model"
        },
        {
            "cell_type": "code",
            "execution_count": 8,
            "metadata": {
                "scrolled": false
            },
            "outputs": [
                {
                    "data": {
                        "text/html": "<div>\n<style scoped>\n    .dataframe tbody tr th:only-of-type {\n        vertical-align: middle;\n    }\n\n    .dataframe tbody tr th {\n        vertical-align: top;\n    }\n\n    .dataframe thead th {\n        text-align: right;\n    }\n</style>\n<table border=\"1\" class=\"dataframe\">\n  <thead>\n    <tr style=\"text-align: right;\">\n      <th></th>\n      <th>SEVERITYCODE</th>\n      <th>COLLISIONTYPE</th>\n      <th>PERSONCOUNT</th>\n      <th>PEDCOUNT</th>\n      <th>PEDCYLCOUNT</th>\n      <th>VEHCOUNT</th>\n      <th>JUNCTIONTYPE</th>\n    </tr>\n  </thead>\n  <tbody>\n    <tr>\n      <th>0</th>\n      <td>2</td>\n      <td>Rear Ended</td>\n      <td>2</td>\n      <td>0</td>\n      <td>0</td>\n      <td>2</td>\n      <td>At Intersection (intersection related)</td>\n    </tr>\n    <tr>\n      <th>1</th>\n      <td>0</td>\n      <td>NaN</td>\n      <td>0</td>\n      <td>0</td>\n      <td>0</td>\n      <td>0</td>\n      <td>NaN</td>\n    </tr>\n    <tr>\n      <th>2</th>\n      <td>1</td>\n      <td>Sideswipe</td>\n      <td>2</td>\n      <td>0</td>\n      <td>0</td>\n      <td>2</td>\n      <td>Mid-Block (not related to intersection)</td>\n    </tr>\n    <tr>\n      <th>3</th>\n      <td>1</td>\n      <td>Parked Car</td>\n      <td>4</td>\n      <td>0</td>\n      <td>0</td>\n      <td>4</td>\n      <td>Mid-Block (not related to intersection)</td>\n    </tr>\n    <tr>\n      <th>4</th>\n      <td>2</td>\n      <td>Angles</td>\n      <td>2</td>\n      <td>0</td>\n      <td>0</td>\n      <td>2</td>\n      <td>At Intersection (intersection related)</td>\n    </tr>\n  </tbody>\n</table>\n</div>",
                        "text/plain": "  SEVERITYCODE COLLISIONTYPE  PERSONCOUNT  PEDCOUNT  PEDCYLCOUNT  VEHCOUNT  \\\n0            2    Rear Ended            2         0            0         2   \n1            0           NaN            0         0            0         0   \n2            1     Sideswipe            2         0            0         2   \n3            1    Parked Car            4         0            0         4   \n4            2        Angles            2         0            0         2   \n\n                              JUNCTIONTYPE  \n0   At Intersection (intersection related)  \n1                                      NaN  \n2  Mid-Block (not related to intersection)  \n3  Mid-Block (not related to intersection)  \n4   At Intersection (intersection related)  "
                    },
                    "execution_count": 8,
                    "metadata": {},
                    "output_type": "execute_result"
                }
            ],
            "source": "df_data_analyze = df_data_updated[['SEVERITYCODE', 'COLLISIONTYPE', 'PERSONCOUNT', 'PEDCOUNT', 'PEDCYLCOUNT', 'VEHCOUNT', 'JUNCTIONTYPE']]\ndf_data_analyze.head()"
        },
        {
            "cell_type": "code",
            "execution_count": 9,
            "metadata": {},
            "outputs": [
                {
                    "data": {
                        "text/plain": "1      137297\n2       58607\n0       21593\n2b       3090\n3         349\nNaN         1\nName: SEVERITYCODE, dtype: int64"
                    },
                    "execution_count": 9,
                    "metadata": {},
                    "output_type": "execute_result"
                }
            ],
            "source": "df_data_analyze['SEVERITYCODE'].value_counts(dropna=False) # Check type of values for SEVERITYCODE"
        },
        {
            "cell_type": "code",
            "execution_count": 10,
            "metadata": {
                "scrolled": true
            },
            "outputs": [
                {
                    "data": {
                        "text/html": "<div>\n<style scoped>\n    .dataframe tbody tr th:only-of-type {\n        vertical-align: middle;\n    }\n\n    .dataframe tbody tr th {\n        vertical-align: top;\n    }\n\n    .dataframe thead th {\n        text-align: right;\n    }\n</style>\n<table border=\"1\" class=\"dataframe\">\n  <thead>\n    <tr style=\"text-align: right;\">\n      <th></th>\n      <th>SEVERITYCODE</th>\n      <th>COLLISIONTYPE</th>\n      <th>PERSONCOUNT</th>\n      <th>PEDCOUNT</th>\n      <th>PEDCYLCOUNT</th>\n      <th>VEHCOUNT</th>\n      <th>JUNCTIONTYPE</th>\n    </tr>\n  </thead>\n  <tbody>\n    <tr>\n      <th>0</th>\n      <td>2</td>\n      <td>Rear Ended</td>\n      <td>2</td>\n      <td>0</td>\n      <td>0</td>\n      <td>2</td>\n      <td>At Intersection (intersection related)</td>\n    </tr>\n    <tr>\n      <th>2</th>\n      <td>1</td>\n      <td>Sideswipe</td>\n      <td>2</td>\n      <td>0</td>\n      <td>0</td>\n      <td>2</td>\n      <td>Mid-Block (not related to intersection)</td>\n    </tr>\n    <tr>\n      <th>3</th>\n      <td>1</td>\n      <td>Parked Car</td>\n      <td>4</td>\n      <td>0</td>\n      <td>0</td>\n      <td>4</td>\n      <td>Mid-Block (not related to intersection)</td>\n    </tr>\n    <tr>\n      <th>4</th>\n      <td>2</td>\n      <td>Angles</td>\n      <td>2</td>\n      <td>0</td>\n      <td>0</td>\n      <td>2</td>\n      <td>At Intersection (intersection related)</td>\n    </tr>\n    <tr>\n      <th>5</th>\n      <td>1</td>\n      <td>Rear Ended</td>\n      <td>3</td>\n      <td>0</td>\n      <td>0</td>\n      <td>2</td>\n      <td>Mid-Block (not related to intersection)</td>\n    </tr>\n  </tbody>\n</table>\n</div>",
                        "text/plain": "  SEVERITYCODE COLLISIONTYPE  PERSONCOUNT  PEDCOUNT  PEDCYLCOUNT  VEHCOUNT  \\\n0            2    Rear Ended            2         0            0         2   \n2            1     Sideswipe            2         0            0         2   \n3            1    Parked Car            4         0            0         4   \n4            2        Angles            2         0            0         2   \n5            1    Rear Ended            3         0            0         2   \n\n                              JUNCTIONTYPE  \n0   At Intersection (intersection related)  \n2  Mid-Block (not related to intersection)  \n3  Mid-Block (not related to intersection)  \n4   At Intersection (intersection related)  \n5  Mid-Block (not related to intersection)  "
                    },
                    "execution_count": 10,
                    "metadata": {},
                    "output_type": "execute_result"
                }
            ],
            "source": "df_data_analyze = df_data_analyze[df_data_analyze['SEVERITYCODE'] != '0'] # Drop any rows with 0 for severity code\ndf_data_analyze.dropna(axis=0, inplace=True) # Drop any rows with NaN data\ndf_data_analyze.head()"
        },
        {
            "cell_type": "code",
            "execution_count": 11,
            "metadata": {},
            "outputs": [
                {
                    "data": {
                        "text/plain": "1     127804\n2      57275\n2b      3028\n3        337\nName: SEVERITYCODE, dtype: int64"
                    },
                    "execution_count": 11,
                    "metadata": {},
                    "output_type": "execute_result"
                }
            ],
            "source": "df_data_analyze['SEVERITYCODE'].value_counts(dropna=False) #Rechecking"
        },
        {
            "cell_type": "code",
            "execution_count": 12,
            "metadata": {},
            "outputs": [
                {
                    "name": "stdout",
                    "output_type": "stream",
                    "text": "SEVERITYCODE\nFalse    188444\nName: SEVERITYCODE, dtype: int64\n\nCOLLISIONTYPE\nFalse    188444\nName: COLLISIONTYPE, dtype: int64\n\nPERSONCOUNT\nFalse    188444\nName: PERSONCOUNT, dtype: int64\n\nPEDCOUNT\nFalse    188444\nName: PEDCOUNT, dtype: int64\n\nPEDCYLCOUNT\nFalse    188444\nName: PEDCYLCOUNT, dtype: int64\n\nVEHCOUNT\nFalse    188444\nName: VEHCOUNT, dtype: int64\n\nJUNCTIONTYPE\nFalse    188444\nName: JUNCTIONTYPE, dtype: int64\n\n"
                }
            ],
            "source": "# Checking of there are any other NaN values in the data set\nmissing_data = df_data_analyze.isnull()\nmissing_data.head(5)\n\nfor column in missing_data.columns.values.tolist():\n    print(column)\n    print (missing_data[column].value_counts())\n    print(\"\")"
        },
        {
            "cell_type": "markdown",
            "metadata": {},
            "source": "## Check data inconsistencies\n\n<a name=\"CheckDataInconsistencies\"></a>"
        },
        {
            "cell_type": "markdown",
            "metadata": {},
            "source": "### Check SEVERITYCODE\n\n<a name=\"CheckSEVERITYCODE\"></a>"
        },
        {
            "cell_type": "code",
            "execution_count": 13,
            "metadata": {},
            "outputs": [
                {
                    "data": {
                        "text/plain": "1     127804\n2      57275\n2b      3028\n3        337\nName: SEVERITYCODE, dtype: int64"
                    },
                    "execution_count": 13,
                    "metadata": {},
                    "output_type": "execute_result"
                }
            ],
            "source": "df_data_analyze['SEVERITYCODE'].value_counts(dropna=False) # Check type of values for SEVERITYCODE"
        },
        {
            "cell_type": "markdown",
            "metadata": {},
            "source": "Changing values in SEVERITYCODE to reflect integers.\n\n* 3-fatality               => 4-fatality\n* 2b-serious injury        => 3-serious injury\n* 2-injury\n* 1-property damage\n* 0-unknown\n"
        },
        {
            "cell_type": "code",
            "execution_count": 14,
            "metadata": {},
            "outputs": [],
            "source": "df_data_analyze['SEVERITYCODE'].replace('3','4', inplace=True)\ndf_data_analyze['SEVERITYCODE'].replace('2b','3', inplace=True)"
        },
        {
            "cell_type": "code",
            "execution_count": 15,
            "metadata": {},
            "outputs": [
                {
                    "data": {
                        "text/plain": "1    127804\n2     57275\n3      3028\n4       337\nName: SEVERITYCODE, dtype: int64"
                    },
                    "execution_count": 15,
                    "metadata": {},
                    "output_type": "execute_result"
                }
            ],
            "source": "df_data_analyze['SEVERITYCODE'].value_counts(dropna=False) # Check type of values for SEVERITYCODE"
        },
        {
            "cell_type": "code",
            "execution_count": 16,
            "metadata": {},
            "outputs": [
                {
                    "data": {
                        "text/plain": "dtype('int64')"
                    },
                    "execution_count": 16,
                    "metadata": {},
                    "output_type": "execute_result"
                }
            ],
            "source": "df_data_analyze['SEVERITYCODE'] = df_data_analyze['SEVERITYCODE'].astype('int') # Change type to int\ndf_data_analyze['SEVERITYCODE'].dtype"
        },
        {
            "cell_type": "code",
            "execution_count": 17,
            "metadata": {},
            "outputs": [
                {
                    "data": {
                        "text/html": "<div>\n<style scoped>\n    .dataframe tbody tr th:only-of-type {\n        vertical-align: middle;\n    }\n\n    .dataframe tbody tr th {\n        vertical-align: top;\n    }\n\n    .dataframe thead th {\n        text-align: right;\n    }\n</style>\n<table border=\"1\" class=\"dataframe\">\n  <thead>\n    <tr style=\"text-align: right;\">\n      <th></th>\n      <th>SEVERITYCODE</th>\n      <th>PERSONCOUNT</th>\n      <th>PEDCOUNT</th>\n      <th>PEDCYLCOUNT</th>\n      <th>VEHCOUNT</th>\n    </tr>\n  </thead>\n  <tbody>\n    <tr>\n      <th>SEVERITYCODE</th>\n      <td>1.000000</td>\n      <td>0.115662</td>\n      <td>0.285922</td>\n      <td>0.217358</td>\n      <td>-0.110882</td>\n    </tr>\n    <tr>\n      <th>PERSONCOUNT</th>\n      <td>0.115662</td>\n      <td>1.000000</td>\n      <td>-0.022998</td>\n      <td>-0.042569</td>\n      <td>0.400310</td>\n    </tr>\n    <tr>\n      <th>PEDCOUNT</th>\n      <td>0.285922</td>\n      <td>-0.022998</td>\n      <td>1.000000</td>\n      <td>-0.021081</td>\n      <td>-0.325299</td>\n    </tr>\n    <tr>\n      <th>PEDCYLCOUNT</th>\n      <td>0.217358</td>\n      <td>-0.042569</td>\n      <td>-0.021081</td>\n      <td>1.000000</td>\n      <td>-0.309258</td>\n    </tr>\n    <tr>\n      <th>VEHCOUNT</th>\n      <td>-0.110882</td>\n      <td>0.400310</td>\n      <td>-0.325299</td>\n      <td>-0.309258</td>\n      <td>1.000000</td>\n    </tr>\n  </tbody>\n</table>\n</div>",
                        "text/plain": "              SEVERITYCODE  PERSONCOUNT  PEDCOUNT  PEDCYLCOUNT  VEHCOUNT\nSEVERITYCODE      1.000000     0.115662  0.285922     0.217358 -0.110882\nPERSONCOUNT       0.115662     1.000000 -0.022998    -0.042569  0.400310\nPEDCOUNT          0.285922    -0.022998  1.000000    -0.021081 -0.325299\nPEDCYLCOUNT       0.217358    -0.042569 -0.021081     1.000000 -0.309258\nVEHCOUNT         -0.110882     0.400310 -0.325299    -0.309258  1.000000"
                    },
                    "execution_count": 17,
                    "metadata": {},
                    "output_type": "execute_result"
                }
            ],
            "source": "df_data_analyze.corr() #Checking Correlation  with the other numerical values"
        },
        {
            "cell_type": "markdown",
            "metadata": {},
            "source": "### Check PERSONCOUNT\n<a name=\"CheckPERSONCOUNT\"></a>"
        },
        {
            "cell_type": "code",
            "execution_count": 18,
            "metadata": {},
            "outputs": [
                {
                    "data": {
                        "text/plain": "count    188444.000000\nmean          2.477877\nstd           1.388904\nmin           0.000000\n25%           2.000000\n50%           2.000000\n75%           3.000000\nmax          93.000000\nName: PERSONCOUNT, dtype: float64"
                    },
                    "execution_count": 18,
                    "metadata": {},
                    "output_type": "execute_result"
                }
            ],
            "source": "df_data_analyze['PERSONCOUNT'].describe()"
        },
        {
            "cell_type": "code",
            "execution_count": 19,
            "metadata": {
                "scrolled": false
            },
            "outputs": [
                {
                    "data": {
                        "image/png": "[encoded data removed]",
                        "text/plain": "<Figure size 576x432 with 1 Axes>"
                    },
                    "metadata": {
                        "needs_background": "light"
                    },
                    "output_type": "display_data"
                }
            ],
            "source": "df_data_analyze['PERSONCOUNT'].plot(kind='box', figsize=(8, 6))\nplt.show()"
        },
        {
            "cell_type": "markdown",
            "metadata": {},
            "source": "There is a huge disparity in data. We're going to remove some outliers"
        },
        {
            "cell_type": "code",
            "execution_count": 20,
            "metadata": {
                "scrolled": true
            },
            "outputs": [
                {
                    "data": {
                        "text/plain": "2     108886\n3      35827\n4      14720\n1      11750\n5       6748\n0       5410\n6       2774\n7       1174\n8        545\n9        225\n10       133\n11        59\n12        35\n13        22\n14        22\n15        11\n17        11\n16         8\n44         6\n20         6\n25         6\n18         6\n19         6\n22         5\n29         4\n26         4\n23         3\n32         3\n47         3\n27         3\n28         3\n37         3\n34         3\n21         2\n36         2\n31         2\n30         2\n24         2\n35         1\n81         1\n39         1\n41         1\n43         1\n48         1\n53         1\n54         1\n57         1\n93         1\nName: PERSONCOUNT, dtype: int64"
                    },
                    "execution_count": 20,
                    "metadata": {},
                    "output_type": "execute_result"
                }
            ],
            "source": "df_data_analyze['PERSONCOUNT'].value_counts(dropna=False) # Check type of values for PERSONCOUNT"
        },
        {
            "cell_type": "code",
            "execution_count": 21,
            "metadata": {
                "scrolled": true
            },
            "outputs": [
                {
                    "data": {
                        "text/html": "<div>\n<style scoped>\n    .dataframe tbody tr th:only-of-type {\n        vertical-align: middle;\n    }\n\n    .dataframe tbody tr th {\n        vertical-align: top;\n    }\n\n    .dataframe thead th {\n        text-align: right;\n    }\n</style>\n<table border=\"1\" class=\"dataframe\">\n  <thead>\n    <tr style=\"text-align: right;\">\n      <th></th>\n      <th>X</th>\n      <th>Y</th>\n      <th>OBJECTID</th>\n      <th>INCKEY</th>\n      <th>COLDETKEY</th>\n      <th>REPORTNO</th>\n      <th>STATUS</th>\n      <th>ADDRTYPE</th>\n      <th>INTKEY</th>\n      <th>LOCATION</th>\n      <th>...</th>\n      <th>ROADCOND</th>\n      <th>LIGHTCOND</th>\n      <th>PEDROWNOTGRNT</th>\n      <th>SDOTCOLNUM</th>\n      <th>SPEEDING</th>\n      <th>ST_COLCODE</th>\n      <th>ST_COLDESC</th>\n      <th>SEGLANEKEY</th>\n      <th>CROSSWALKKEY</th>\n      <th>HITPARKEDCAR</th>\n    </tr>\n  </thead>\n  <tbody>\n    <tr>\n      <th>163697</th>\n      <td>-122.347294</td>\n      <td>47.647172</td>\n      <td>163698</td>\n      <td>203057</td>\n      <td>203197</td>\n      <td>3703661</td>\n      <td>Matched</td>\n      <td>Block</td>\n      <td>NaN</td>\n      <td>AURORA BR BETWEEN RAYE ST AND BRIDGE WAY N</td>\n      <td>...</td>\n      <td>Dry</td>\n      <td>Daylight</td>\n      <td>NaN</td>\n      <td>NaN</td>\n      <td>NaN</td>\n      <td>30</td>\n      <td>From opposite direction - all others</td>\n      <td>0</td>\n      <td>0</td>\n      <td>N</td>\n    </tr>\n  </tbody>\n</table>\n<p>1 rows \u00d7 40 columns</p>\n</div>",
                        "text/plain": "                 X          Y  OBJECTID  INCKEY  COLDETKEY REPORTNO   STATUS  \\\n163697 -122.347294  47.647172    163698  203057     203197  3703661  Matched   \n\n       ADDRTYPE  INTKEY                                    LOCATION  ...  \\\n163697    Block     NaN  AURORA BR BETWEEN RAYE ST AND BRIDGE WAY N  ...   \n\n       ROADCOND LIGHTCOND PEDROWNOTGRNT SDOTCOLNUM SPEEDING  ST_COLCODE  \\\n163697      Dry  Daylight           NaN        NaN      NaN          30   \n\n                                  ST_COLDESC  SEGLANEKEY  CROSSWALKKEY  \\\n163697  From opposite direction - all others           0             0   \n\n        HITPARKEDCAR  \n163697             N  \n\n[1 rows x 40 columns]"
                    },
                    "execution_count": 21,
                    "metadata": {},
                    "output_type": "execute_result"
                }
            ],
            "source": "df_data_updated[df_data_updated['PERSONCOUNT'] == 93] # Strange Data"
        },
        {
            "cell_type": "markdown",
            "metadata": {},
            "source": "https://www.cnn.com/2015/09/24/us/seattle-tour-bus-duck-tour-fatal-accident/index.html\n\nWow this was a horrific collision. Using data analysis we were able to find this data quickly."
        },
        {
            "cell_type": "code",
            "execution_count": 22,
            "metadata": {},
            "outputs": [],
            "source": "df_data_analyze = df_data_analyze[df_data_analyze['PERSONCOUNT'] < 6] # Drop any rows with 0 for severity code"
        },
        {
            "cell_type": "code",
            "execution_count": 23,
            "metadata": {},
            "outputs": [
                {
                    "data": {
                        "image/png": "[encoded data removed]",
                        "text/plain": "<Figure size 576x432 with 1 Axes>"
                    },
                    "metadata": {
                        "needs_background": "light"
                    },
                    "output_type": "display_data"
                }
            ],
            "source": "df_data_analyze['PERSONCOUNT'].plot(kind='box', figsize=(8, 6))\nplt.show()"
        },
        {
            "cell_type": "markdown",
            "metadata": {},
            "source": "### Check PEDCOUNT\n<a name=\"CheckPEDCOUNT\"></a>"
        },
        {
            "cell_type": "code",
            "execution_count": 24,
            "metadata": {},
            "outputs": [
                {
                    "data": {
                        "text/plain": "0    175471\n1      7582\n2       256\n3        25\n4         7\nName: PEDCOUNT, dtype: int64"
                    },
                    "execution_count": 24,
                    "metadata": {},
                    "output_type": "execute_result"
                }
            ],
            "source": "df_data_analyze['PEDCOUNT'].value_counts(dropna=False) # Check type of values for PERSONCOUNT"
        },
        {
            "cell_type": "markdown",
            "metadata": {},
            "source": "### Check PEDCYLCOUNT\n<a name=\"CheckPEDCYLCOUNT\"></a>"
        },
        {
            "cell_type": "code",
            "execution_count": 25,
            "metadata": {
                "scrolled": false
            },
            "outputs": [
                {
                    "data": {
                        "text/plain": "0    177449\n1      5843\n2        49\nName: PEDCYLCOUNT, dtype: int64"
                    },
                    "execution_count": 25,
                    "metadata": {},
                    "output_type": "execute_result"
                }
            ],
            "source": "df_data_analyze['PEDCYLCOUNT'].value_counts(dropna=False) # Check type of values for PEDCYLCOUNT"
        },
        {
            "cell_type": "markdown",
            "metadata": {},
            "source": "### Check VEHCOUNT\n<a name=\"CheckVEHCOUNT\"></a>"
        },
        {
            "cell_type": "code",
            "execution_count": 26,
            "metadata": {
                "scrolled": true
            },
            "outputs": [
                {
                    "data": {
                        "text/plain": "2     141561\n1      27083\n3      12089\n4       2015\n5        344\n0        239\n6          6\n7          2\n11         1\n9          1\nName: VEHCOUNT, dtype: int64"
                    },
                    "execution_count": 26,
                    "metadata": {},
                    "output_type": "execute_result"
                }
            ],
            "source": "df_data_analyze['VEHCOUNT'].value_counts(dropna=False) # Check type of values for VEHCOUNT"
        },
        {
            "cell_type": "markdown",
            "metadata": {},
            "source": "### Check COLLISIONTYPE\n<a name=\"CheckCOLLISIONTYPE\"></a>"
        },
        {
            "cell_type": "code",
            "execution_count": 27,
            "metadata": {
                "scrolled": true
            },
            "outputs": [
                {
                    "data": {
                        "text/plain": "Parked Car    43416\nAngles        34009\nRear Ended    32584\nOther         23532\nSideswipe     17995\nLeft Turn     13525\nPedestrian     7504\nCycles         5836\nRight Turn     2869\nHead On        2071\nName: COLLISIONTYPE, dtype: int64"
                    },
                    "execution_count": 27,
                    "metadata": {},
                    "output_type": "execute_result"
                }
            ],
            "source": "#['SEVERITYCODE', 'COLLISIONTYPE', 'PERSONCOUNT', 'PEDCOUNT', 'PEDCYLCOUNT', 'VEHCOUNT', 'JUNCTIONTYPE']\ndf_data_analyze['COLLISIONTYPE'].value_counts(dropna=False) # Check type of values for COLLISIONTYPE"
        },
        {
            "cell_type": "code",
            "execution_count": 28,
            "metadata": {
                "scrolled": true
            },
            "outputs": [
                {
                    "data": {
                        "text/html": "<div>\n<style scoped>\n    .dataframe tbody tr th:only-of-type {\n        vertical-align: middle;\n    }\n\n    .dataframe tbody tr th {\n        vertical-align: top;\n    }\n\n    .dataframe thead th {\n        text-align: right;\n    }\n</style>\n<table border=\"1\" class=\"dataframe\">\n  <thead>\n    <tr style=\"text-align: right;\">\n      <th></th>\n      <th>SEVERITYCODE</th>\n      <th>COLLISIONTYPE</th>\n      <th>PERSONCOUNT</th>\n      <th>PEDCOUNT</th>\n      <th>PEDCYLCOUNT</th>\n      <th>VEHCOUNT</th>\n      <th>JUNCTIONTYPE</th>\n    </tr>\n  </thead>\n  <tbody>\n    <tr>\n      <th>0</th>\n      <td>2</td>\n      <td>Rear Ended</td>\n      <td>2</td>\n      <td>0</td>\n      <td>0</td>\n      <td>2</td>\n      <td>At Intersection (intersection related)</td>\n    </tr>\n    <tr>\n      <th>2</th>\n      <td>1</td>\n      <td>Sideswipe</td>\n      <td>2</td>\n      <td>0</td>\n      <td>0</td>\n      <td>2</td>\n      <td>Mid-Block (not related to intersection)</td>\n    </tr>\n    <tr>\n      <th>3</th>\n      <td>1</td>\n      <td>Parked Car</td>\n      <td>4</td>\n      <td>0</td>\n      <td>0</td>\n      <td>4</td>\n      <td>Mid-Block (not related to intersection)</td>\n    </tr>\n    <tr>\n      <th>4</th>\n      <td>2</td>\n      <td>Angles</td>\n      <td>2</td>\n      <td>0</td>\n      <td>0</td>\n      <td>2</td>\n      <td>At Intersection (intersection related)</td>\n    </tr>\n    <tr>\n      <th>5</th>\n      <td>1</td>\n      <td>Rear Ended</td>\n      <td>3</td>\n      <td>0</td>\n      <td>0</td>\n      <td>2</td>\n      <td>Mid-Block (not related to intersection)</td>\n    </tr>\n  </tbody>\n</table>\n</div>",
                        "text/plain": "   SEVERITYCODE COLLISIONTYPE  PERSONCOUNT  PEDCOUNT  PEDCYLCOUNT  VEHCOUNT  \\\n0             2    Rear Ended            2         0            0         2   \n2             1     Sideswipe            2         0            0         2   \n3             1    Parked Car            4         0            0         4   \n4             2        Angles            2         0            0         2   \n5             1    Rear Ended            3         0            0         2   \n\n                              JUNCTIONTYPE  \n0   At Intersection (intersection related)  \n2  Mid-Block (not related to intersection)  \n3  Mid-Block (not related to intersection)  \n4   At Intersection (intersection related)  \n5  Mid-Block (not related to intersection)  "
                    },
                    "execution_count": 28,
                    "metadata": {},
                    "output_type": "execute_result"
                }
            ],
            "source": "df_data_analyze['COLLISIONTYPE'].astype(str)\ndf_data_analyze.head()"
        },
        {
            "cell_type": "code",
            "execution_count": 29,
            "metadata": {},
            "outputs": [],
            "source": "df_data_analyze = df_data_analyze[df_data_analyze['COLLISIONTYPE'] != 'Other'] # Drop any rows with 0 for severity code"
        },
        {
            "cell_type": "code",
            "execution_count": 30,
            "metadata": {},
            "outputs": [
                {
                    "data": {
                        "text/plain": "Parked Car    43416\nAngles        34009\nRear Ended    32584\nSideswipe     17995\nLeft Turn     13525\nPedestrian     7504\nCycles         5836\nRight Turn     2869\nHead On        2071\nName: COLLISIONTYPE, dtype: int64"
                    },
                    "execution_count": 30,
                    "metadata": {},
                    "output_type": "execute_result"
                }
            ],
            "source": "#['SEVERITYCODE', 'COLLISIONTYPE', 'PERSONCOUNT', 'PEDCOUNT', 'PEDCYLCOUNT', 'VEHCOUNT', 'JUNCTIONTYPE']\ndf_data_analyze['COLLISIONTYPE'].value_counts(dropna=False) # Check type of values for JUNCTIONTYPE"
        },
        {
            "cell_type": "code",
            "execution_count": 31,
            "metadata": {},
            "outputs": [],
            "source": "dummy_variable_COLLISIONTYPE = pd.get_dummies(df_data_analyze['COLLISIONTYPE'])\ndf_data_analyze = pd.concat([df_data_analyze, dummy_variable_COLLISIONTYPE], axis=1)\ndf_data_analyze.drop('COLLISIONTYPE', axis=1, inplace=True)"
        },
        {
            "cell_type": "code",
            "execution_count": 32,
            "metadata": {},
            "outputs": [
                {
                    "data": {
                        "text/html": "<div>\n<style scoped>\n    .dataframe tbody tr th:only-of-type {\n        vertical-align: middle;\n    }\n\n    .dataframe tbody tr th {\n        vertical-align: top;\n    }\n\n    .dataframe thead th {\n        text-align: right;\n    }\n</style>\n<table border=\"1\" class=\"dataframe\">\n  <thead>\n    <tr style=\"text-align: right;\">\n      <th></th>\n      <th>SEVERITYCODE</th>\n      <th>PERSONCOUNT</th>\n      <th>PEDCOUNT</th>\n      <th>PEDCYLCOUNT</th>\n      <th>VEHCOUNT</th>\n      <th>JUNCTIONTYPE</th>\n      <th>Angles</th>\n      <th>Cycles</th>\n      <th>Head On</th>\n      <th>Left Turn</th>\n      <th>Parked Car</th>\n      <th>Pedestrian</th>\n      <th>Rear Ended</th>\n      <th>Right Turn</th>\n      <th>Sideswipe</th>\n    </tr>\n  </thead>\n  <tbody>\n    <tr>\n      <th>0</th>\n      <td>2</td>\n      <td>2</td>\n      <td>0</td>\n      <td>0</td>\n      <td>2</td>\n      <td>At Intersection (intersection related)</td>\n      <td>0</td>\n      <td>0</td>\n      <td>0</td>\n      <td>0</td>\n      <td>0</td>\n      <td>0</td>\n      <td>1</td>\n      <td>0</td>\n      <td>0</td>\n    </tr>\n    <tr>\n      <th>2</th>\n      <td>1</td>\n      <td>2</td>\n      <td>0</td>\n      <td>0</td>\n      <td>2</td>\n      <td>Mid-Block (not related to intersection)</td>\n      <td>0</td>\n      <td>0</td>\n      <td>0</td>\n      <td>0</td>\n      <td>0</td>\n      <td>0</td>\n      <td>0</td>\n      <td>0</td>\n      <td>1</td>\n    </tr>\n    <tr>\n      <th>3</th>\n      <td>1</td>\n      <td>4</td>\n      <td>0</td>\n      <td>0</td>\n      <td>4</td>\n      <td>Mid-Block (not related to intersection)</td>\n      <td>0</td>\n      <td>0</td>\n      <td>0</td>\n      <td>0</td>\n      <td>1</td>\n      <td>0</td>\n      <td>0</td>\n      <td>0</td>\n      <td>0</td>\n    </tr>\n    <tr>\n      <th>4</th>\n      <td>2</td>\n      <td>2</td>\n      <td>0</td>\n      <td>0</td>\n      <td>2</td>\n      <td>At Intersection (intersection related)</td>\n      <td>1</td>\n      <td>0</td>\n      <td>0</td>\n      <td>0</td>\n      <td>0</td>\n      <td>0</td>\n      <td>0</td>\n      <td>0</td>\n      <td>0</td>\n    </tr>\n    <tr>\n      <th>5</th>\n      <td>1</td>\n      <td>3</td>\n      <td>0</td>\n      <td>0</td>\n      <td>2</td>\n      <td>Mid-Block (not related to intersection)</td>\n      <td>0</td>\n      <td>0</td>\n      <td>0</td>\n      <td>0</td>\n      <td>0</td>\n      <td>0</td>\n      <td>1</td>\n      <td>0</td>\n      <td>0</td>\n    </tr>\n  </tbody>\n</table>\n</div>",
                        "text/plain": "   SEVERITYCODE  PERSONCOUNT  PEDCOUNT  PEDCYLCOUNT  VEHCOUNT  \\\n0             2            2         0            0         2   \n2             1            2         0            0         2   \n3             1            4         0            0         4   \n4             2            2         0            0         2   \n5             1            3         0            0         2   \n\n                              JUNCTIONTYPE  Angles  Cycles  Head On  \\\n0   At Intersection (intersection related)       0       0        0   \n2  Mid-Block (not related to intersection)       0       0        0   \n3  Mid-Block (not related to intersection)       0       0        0   \n4   At Intersection (intersection related)       1       0        0   \n5  Mid-Block (not related to intersection)       0       0        0   \n\n   Left Turn  Parked Car  Pedestrian  Rear Ended  Right Turn  Sideswipe  \n0          0           0           0           1           0          0  \n2          0           0           0           0           0          1  \n3          0           1           0           0           0          0  \n4          0           0           0           0           0          0  \n5          0           0           0           1           0          0  "
                    },
                    "execution_count": 32,
                    "metadata": {},
                    "output_type": "execute_result"
                }
            ],
            "source": "df_data_analyze.head()"
        },
        {
            "cell_type": "markdown",
            "metadata": {},
            "source": "### Check JUNCTIONTYPE\n<a name=\"CheckJUNCTIONTYPE\"></a>"
        },
        {
            "cell_type": "code",
            "execution_count": 33,
            "metadata": {
                "scrolled": true
            },
            "outputs": [
                {
                    "data": {
                        "text/plain": "Mid-Block (not related to intersection)              74318\nAt Intersection (intersection related)               57988\nMid-Block (but intersection related)                 18768\nDriveway Junction                                     6828\nAt Intersection (but not related to intersection)     1775\nRamp Junction                                          127\nUnknown                                                  5\nName: JUNCTIONTYPE, dtype: int64"
                    },
                    "execution_count": 33,
                    "metadata": {},
                    "output_type": "execute_result"
                }
            ],
            "source": "#['SEVERITYCODE', 'COLLISIONTYPE', 'PERSONCOUNT', 'PEDCOUNT', 'PEDCYLCOUNT', 'VEHCOUNT', 'JUNCTIONTYPE']\ndf_data_analyze['JUNCTIONTYPE'].value_counts(dropna=False) # Check type of values for JUNCTIONTYPE"
        },
        {
            "cell_type": "code",
            "execution_count": 34,
            "metadata": {},
            "outputs": [
                {
                    "data": {
                        "text/html": "<div>\n<style scoped>\n    .dataframe tbody tr th:only-of-type {\n        vertical-align: middle;\n    }\n\n    .dataframe tbody tr th {\n        vertical-align: top;\n    }\n\n    .dataframe thead th {\n        text-align: right;\n    }\n</style>\n<table border=\"1\" class=\"dataframe\">\n  <thead>\n    <tr style=\"text-align: right;\">\n      <th></th>\n      <th>SEVERITYCODE</th>\n      <th>PERSONCOUNT</th>\n      <th>PEDCOUNT</th>\n      <th>PEDCYLCOUNT</th>\n      <th>VEHCOUNT</th>\n      <th>JUNCTIONTYPE</th>\n      <th>Angles</th>\n      <th>Cycles</th>\n      <th>Head On</th>\n      <th>Left Turn</th>\n      <th>Parked Car</th>\n      <th>Pedestrian</th>\n      <th>Rear Ended</th>\n      <th>Right Turn</th>\n      <th>Sideswipe</th>\n    </tr>\n  </thead>\n  <tbody>\n    <tr>\n      <th>0</th>\n      <td>2</td>\n      <td>2</td>\n      <td>0</td>\n      <td>0</td>\n      <td>2</td>\n      <td>At Intersection (intersection related)</td>\n      <td>0</td>\n      <td>0</td>\n      <td>0</td>\n      <td>0</td>\n      <td>0</td>\n      <td>0</td>\n      <td>1</td>\n      <td>0</td>\n      <td>0</td>\n    </tr>\n    <tr>\n      <th>2</th>\n      <td>1</td>\n      <td>2</td>\n      <td>0</td>\n      <td>0</td>\n      <td>2</td>\n      <td>Mid-Block (not related to intersection)</td>\n      <td>0</td>\n      <td>0</td>\n      <td>0</td>\n      <td>0</td>\n      <td>0</td>\n      <td>0</td>\n      <td>0</td>\n      <td>0</td>\n      <td>1</td>\n    </tr>\n    <tr>\n      <th>3</th>\n      <td>1</td>\n      <td>4</td>\n      <td>0</td>\n      <td>0</td>\n      <td>4</td>\n      <td>Mid-Block (not related to intersection)</td>\n      <td>0</td>\n      <td>0</td>\n      <td>0</td>\n      <td>0</td>\n      <td>1</td>\n      <td>0</td>\n      <td>0</td>\n      <td>0</td>\n      <td>0</td>\n    </tr>\n    <tr>\n      <th>4</th>\n      <td>2</td>\n      <td>2</td>\n      <td>0</td>\n      <td>0</td>\n      <td>2</td>\n      <td>At Intersection (intersection related)</td>\n      <td>1</td>\n      <td>0</td>\n      <td>0</td>\n      <td>0</td>\n      <td>0</td>\n      <td>0</td>\n      <td>0</td>\n      <td>0</td>\n      <td>0</td>\n    </tr>\n    <tr>\n      <th>5</th>\n      <td>1</td>\n      <td>3</td>\n      <td>0</td>\n      <td>0</td>\n      <td>2</td>\n      <td>Mid-Block (not related to intersection)</td>\n      <td>0</td>\n      <td>0</td>\n      <td>0</td>\n      <td>0</td>\n      <td>0</td>\n      <td>0</td>\n      <td>1</td>\n      <td>0</td>\n      <td>0</td>\n    </tr>\n  </tbody>\n</table>\n</div>",
                        "text/plain": "   SEVERITYCODE  PERSONCOUNT  PEDCOUNT  PEDCYLCOUNT  VEHCOUNT  \\\n0             2            2         0            0         2   \n2             1            2         0            0         2   \n3             1            4         0            0         4   \n4             2            2         0            0         2   \n5             1            3         0            0         2   \n\n                              JUNCTIONTYPE  Angles  Cycles  Head On  \\\n0   At Intersection (intersection related)       0       0        0   \n2  Mid-Block (not related to intersection)       0       0        0   \n3  Mid-Block (not related to intersection)       0       0        0   \n4   At Intersection (intersection related)       1       0        0   \n5  Mid-Block (not related to intersection)       0       0        0   \n\n   Left Turn  Parked Car  Pedestrian  Rear Ended  Right Turn  Sideswipe  \n0          0           0           0           1           0          0  \n2          0           0           0           0           0          1  \n3          0           1           0           0           0          0  \n4          0           0           0           0           0          0  \n5          0           0           0           1           0          0  "
                    },
                    "execution_count": 34,
                    "metadata": {},
                    "output_type": "execute_result"
                }
            ],
            "source": "df_data_analyze['JUNCTIONTYPE'].astype(str)\ndf_data_analyze.head()"
        },
        {
            "cell_type": "markdown",
            "metadata": {},
            "source": "Drop Unknown rows because it doesn't add to the data analysis"
        },
        {
            "cell_type": "code",
            "execution_count": 35,
            "metadata": {},
            "outputs": [],
            "source": "df_data_analyze = df_data_analyze[df_data_analyze['JUNCTIONTYPE'] != 'Unknown'] # Drop any rows with 0 for severity code"
        },
        {
            "cell_type": "code",
            "execution_count": 36,
            "metadata": {},
            "outputs": [
                {
                    "data": {
                        "text/plain": "Mid-Block (not related to intersection)              74318\nAt Intersection (intersection related)               57988\nMid-Block (but intersection related)                 18768\nDriveway Junction                                     6828\nAt Intersection (but not related to intersection)     1775\nRamp Junction                                          127\nName: JUNCTIONTYPE, dtype: int64"
                    },
                    "execution_count": 36,
                    "metadata": {},
                    "output_type": "execute_result"
                }
            ],
            "source": "#['SEVERITYCODE', 'COLLISIONTYPE', 'PERSONCOUNT', 'PEDCOUNT', 'PEDCYLCOUNT', 'VEHCOUNT', 'JUNCTIONTYPE']\ndf_data_analyze['JUNCTIONTYPE'].value_counts(dropna=False) # Check type of values for JUNCTIONTYPE"
        },
        {
            "cell_type": "code",
            "execution_count": 37,
            "metadata": {},
            "outputs": [],
            "source": "dummy_variable_JUNCTIONTYPE = pd.get_dummies(df_data_analyze['JUNCTIONTYPE'])\ndf_data_analyze = pd.concat([df_data_analyze, dummy_variable_JUNCTIONTYPE], axis=1)\ndf_data_analyze.drop('JUNCTIONTYPE', axis=1, inplace=True)"
        },
        {
            "cell_type": "code",
            "execution_count": 38,
            "metadata": {},
            "outputs": [
                {
                    "data": {
                        "text/html": "<div>\n<style scoped>\n    .dataframe tbody tr th:only-of-type {\n        vertical-align: middle;\n    }\n\n    .dataframe tbody tr th {\n        vertical-align: top;\n    }\n\n    .dataframe thead th {\n        text-align: right;\n    }\n</style>\n<table border=\"1\" class=\"dataframe\">\n  <thead>\n    <tr style=\"text-align: right;\">\n      <th></th>\n      <th>SEVERITYCODE</th>\n      <th>PERSONCOUNT</th>\n      <th>PEDCOUNT</th>\n      <th>PEDCYLCOUNT</th>\n      <th>VEHCOUNT</th>\n      <th>Angles</th>\n      <th>Cycles</th>\n      <th>Head On</th>\n      <th>Left Turn</th>\n      <th>Parked Car</th>\n      <th>Pedestrian</th>\n      <th>Rear Ended</th>\n      <th>Right Turn</th>\n      <th>Sideswipe</th>\n      <th>At Intersection (but not related to intersection)</th>\n      <th>At Intersection (intersection related)</th>\n      <th>Driveway Junction</th>\n      <th>Mid-Block (but intersection related)</th>\n      <th>Mid-Block (not related to intersection)</th>\n      <th>Ramp Junction</th>\n    </tr>\n  </thead>\n  <tbody>\n    <tr>\n      <th>0</th>\n      <td>2</td>\n      <td>2</td>\n      <td>0</td>\n      <td>0</td>\n      <td>2</td>\n      <td>0</td>\n      <td>0</td>\n      <td>0</td>\n      <td>0</td>\n      <td>0</td>\n      <td>0</td>\n      <td>1</td>\n      <td>0</td>\n      <td>0</td>\n      <td>0</td>\n      <td>1</td>\n      <td>0</td>\n      <td>0</td>\n      <td>0</td>\n      <td>0</td>\n    </tr>\n    <tr>\n      <th>2</th>\n      <td>1</td>\n      <td>2</td>\n      <td>0</td>\n      <td>0</td>\n      <td>2</td>\n      <td>0</td>\n      <td>0</td>\n      <td>0</td>\n      <td>0</td>\n      <td>0</td>\n      <td>0</td>\n      <td>0</td>\n      <td>0</td>\n      <td>1</td>\n      <td>0</td>\n      <td>0</td>\n      <td>0</td>\n      <td>0</td>\n      <td>1</td>\n      <td>0</td>\n    </tr>\n    <tr>\n      <th>3</th>\n      <td>1</td>\n      <td>4</td>\n      <td>0</td>\n      <td>0</td>\n      <td>4</td>\n      <td>0</td>\n      <td>0</td>\n      <td>0</td>\n      <td>0</td>\n      <td>1</td>\n      <td>0</td>\n      <td>0</td>\n      <td>0</td>\n      <td>0</td>\n      <td>0</td>\n      <td>0</td>\n      <td>0</td>\n      <td>0</td>\n      <td>1</td>\n      <td>0</td>\n    </tr>\n    <tr>\n      <th>4</th>\n      <td>2</td>\n      <td>2</td>\n      <td>0</td>\n      <td>0</td>\n      <td>2</td>\n      <td>1</td>\n      <td>0</td>\n      <td>0</td>\n      <td>0</td>\n      <td>0</td>\n      <td>0</td>\n      <td>0</td>\n      <td>0</td>\n      <td>0</td>\n      <td>0</td>\n      <td>1</td>\n      <td>0</td>\n      <td>0</td>\n      <td>0</td>\n      <td>0</td>\n    </tr>\n    <tr>\n      <th>5</th>\n      <td>1</td>\n      <td>3</td>\n      <td>0</td>\n      <td>0</td>\n      <td>2</td>\n      <td>0</td>\n      <td>0</td>\n      <td>0</td>\n      <td>0</td>\n      <td>0</td>\n      <td>0</td>\n      <td>1</td>\n      <td>0</td>\n      <td>0</td>\n      <td>0</td>\n      <td>0</td>\n      <td>0</td>\n      <td>0</td>\n      <td>1</td>\n      <td>0</td>\n    </tr>\n  </tbody>\n</table>\n</div>",
                        "text/plain": "   SEVERITYCODE  PERSONCOUNT  PEDCOUNT  PEDCYLCOUNT  VEHCOUNT  Angles  Cycles  \\\n0             2            2         0            0         2       0       0   \n2             1            2         0            0         2       0       0   \n3             1            4         0            0         4       0       0   \n4             2            2         0            0         2       1       0   \n5             1            3         0            0         2       0       0   \n\n   Head On  Left Turn  Parked Car  Pedestrian  Rear Ended  Right Turn  \\\n0        0          0           0           0           1           0   \n2        0          0           0           0           0           0   \n3        0          0           1           0           0           0   \n4        0          0           0           0           0           0   \n5        0          0           0           0           1           0   \n\n   Sideswipe  At Intersection (but not related to intersection)  \\\n0          0                                                  0   \n2          1                                                  0   \n3          0                                                  0   \n4          0                                                  0   \n5          0                                                  0   \n\n   At Intersection (intersection related)  Driveway Junction  \\\n0                                       1                  0   \n2                                       0                  0   \n3                                       0                  0   \n4                                       1                  0   \n5                                       0                  0   \n\n   Mid-Block (but intersection related)  \\\n0                                     0   \n2                                     0   \n3                                     0   \n4                                     0   \n5                                     0   \n\n   Mid-Block (not related to intersection)  Ramp Junction  \n0                                        0              0  \n2                                        1              0  \n3                                        1              0  \n4                                        0              0  \n5                                        1              0  "
                    },
                    "execution_count": 38,
                    "metadata": {},
                    "output_type": "execute_result"
                }
            ],
            "source": "df_data_analyze.head()"
        },
        {
            "cell_type": "markdown",
            "metadata": {},
            "source": "## \tData Normalization\n\n\n<a name=\"DataNormalization\"></a>"
        },
        {
            "cell_type": "code",
            "execution_count": 39,
            "metadata": {},
            "outputs": [
                {
                    "data": {
                        "text/html": "<div>\n<style scoped>\n    .dataframe tbody tr th:only-of-type {\n        vertical-align: middle;\n    }\n\n    .dataframe tbody tr th {\n        vertical-align: top;\n    }\n\n    .dataframe thead th {\n        text-align: right;\n    }\n</style>\n<table border=\"1\" class=\"dataframe\">\n  <thead>\n    <tr style=\"text-align: right;\">\n      <th></th>\n      <th>SEVERITYCODE</th>\n      <th>PERSONCOUNT</th>\n      <th>PEDCOUNT</th>\n      <th>PEDCYLCOUNT</th>\n      <th>VEHCOUNT</th>\n      <th>Angles</th>\n      <th>Cycles</th>\n      <th>Head On</th>\n      <th>Left Turn</th>\n      <th>Parked Car</th>\n      <th>Pedestrian</th>\n      <th>Rear Ended</th>\n      <th>Right Turn</th>\n      <th>Sideswipe</th>\n      <th>At Intersection (but not related to intersection)</th>\n      <th>At Intersection (intersection related)</th>\n      <th>Driveway Junction</th>\n      <th>Mid-Block (but intersection related)</th>\n      <th>Mid-Block (not related to intersection)</th>\n      <th>Ramp Junction</th>\n    </tr>\n  </thead>\n  <tbody>\n    <tr>\n      <th>0</th>\n      <td>0.50</td>\n      <td>0.4</td>\n      <td>0.0</td>\n      <td>0.0</td>\n      <td>0.181818</td>\n      <td>0</td>\n      <td>0</td>\n      <td>0</td>\n      <td>0</td>\n      <td>0</td>\n      <td>0</td>\n      <td>1</td>\n      <td>0</td>\n      <td>0</td>\n      <td>0</td>\n      <td>1</td>\n      <td>0</td>\n      <td>0</td>\n      <td>0</td>\n      <td>0</td>\n    </tr>\n    <tr>\n      <th>2</th>\n      <td>0.25</td>\n      <td>0.4</td>\n      <td>0.0</td>\n      <td>0.0</td>\n      <td>0.181818</td>\n      <td>0</td>\n      <td>0</td>\n      <td>0</td>\n      <td>0</td>\n      <td>0</td>\n      <td>0</td>\n      <td>0</td>\n      <td>0</td>\n      <td>1</td>\n      <td>0</td>\n      <td>0</td>\n      <td>0</td>\n      <td>0</td>\n      <td>1</td>\n      <td>0</td>\n    </tr>\n    <tr>\n      <th>3</th>\n      <td>0.25</td>\n      <td>0.8</td>\n      <td>0.0</td>\n      <td>0.0</td>\n      <td>0.363636</td>\n      <td>0</td>\n      <td>0</td>\n      <td>0</td>\n      <td>0</td>\n      <td>1</td>\n      <td>0</td>\n      <td>0</td>\n      <td>0</td>\n      <td>0</td>\n      <td>0</td>\n      <td>0</td>\n      <td>0</td>\n      <td>0</td>\n      <td>1</td>\n      <td>0</td>\n    </tr>\n    <tr>\n      <th>4</th>\n      <td>0.50</td>\n      <td>0.4</td>\n      <td>0.0</td>\n      <td>0.0</td>\n      <td>0.181818</td>\n      <td>1</td>\n      <td>0</td>\n      <td>0</td>\n      <td>0</td>\n      <td>0</td>\n      <td>0</td>\n      <td>0</td>\n      <td>0</td>\n      <td>0</td>\n      <td>0</td>\n      <td>1</td>\n      <td>0</td>\n      <td>0</td>\n      <td>0</td>\n      <td>0</td>\n    </tr>\n    <tr>\n      <th>5</th>\n      <td>0.25</td>\n      <td>0.6</td>\n      <td>0.0</td>\n      <td>0.0</td>\n      <td>0.181818</td>\n      <td>0</td>\n      <td>0</td>\n      <td>0</td>\n      <td>0</td>\n      <td>0</td>\n      <td>0</td>\n      <td>1</td>\n      <td>0</td>\n      <td>0</td>\n      <td>0</td>\n      <td>0</td>\n      <td>0</td>\n      <td>0</td>\n      <td>1</td>\n      <td>0</td>\n    </tr>\n  </tbody>\n</table>\n</div>",
                        "text/plain": "   SEVERITYCODE  PERSONCOUNT  PEDCOUNT  PEDCYLCOUNT  VEHCOUNT  Angles  Cycles  \\\n0          0.50          0.4       0.0          0.0  0.181818       0       0   \n2          0.25          0.4       0.0          0.0  0.181818       0       0   \n3          0.25          0.8       0.0          0.0  0.363636       0       0   \n4          0.50          0.4       0.0          0.0  0.181818       1       0   \n5          0.25          0.6       0.0          0.0  0.181818       0       0   \n\n   Head On  Left Turn  Parked Car  Pedestrian  Rear Ended  Right Turn  \\\n0        0          0           0           0           1           0   \n2        0          0           0           0           0           0   \n3        0          0           1           0           0           0   \n4        0          0           0           0           0           0   \n5        0          0           0           0           1           0   \n\n   Sideswipe  At Intersection (but not related to intersection)  \\\n0          0                                                  0   \n2          1                                                  0   \n3          0                                                  0   \n4          0                                                  0   \n5          0                                                  0   \n\n   At Intersection (intersection related)  Driveway Junction  \\\n0                                       1                  0   \n2                                       0                  0   \n3                                       0                  0   \n4                                       1                  0   \n5                                       0                  0   \n\n   Mid-Block (but intersection related)  \\\n0                                     0   \n2                                     0   \n3                                     0   \n4                                     0   \n5                                     0   \n\n   Mid-Block (not related to intersection)  Ramp Junction  \n0                                        0              0  \n2                                        1              0  \n3                                        1              0  \n4                                        0              0  \n5                                        1              0  "
                    },
                    "execution_count": 39,
                    "metadata": {},
                    "output_type": "execute_result"
                }
            ],
            "source": "df_data_analyze['SEVERITYCODE']=df_data_analyze['SEVERITYCODE']/df_data_analyze['SEVERITYCODE'].max()\n\ndf_data_analyze['PERSONCOUNT']=df_data_analyze['PERSONCOUNT']/df_data_analyze['PERSONCOUNT'].max()\ndf_data_analyze['PEDCOUNT']=df_data_analyze['PEDCOUNT']/df_data_analyze['PEDCOUNT'].max()\ndf_data_analyze['PEDCYLCOUNT']=df_data_analyze['PEDCYLCOUNT']/df_data_analyze['PEDCYLCOUNT'].max()\ndf_data_analyze['VEHCOUNT']=df_data_analyze['VEHCOUNT']/df_data_analyze['VEHCOUNT'].max()\ndf_data_analyze.head()"
        },
        {
            "cell_type": "markdown",
            "metadata": {},
            "source": "# Methodology\n<a name=\"Methodology\"></a>"
        },
        {
            "cell_type": "markdown",
            "metadata": {},
            "source": "We will be using 6 features taken from the original dataset to determine the severity of a collision. We will try a variety of methods to determine the best model.\n\nThe dataset is clean and massages to numeric values for analysis by linear regression. The person count, pedestrian count, pedalcyclist count, vehicle count, the type of collision, and the area of the block as variables to determine the severity.\n\nThe analysis takes on data that is without any missing data and some outliers are taken out. We will try to use the most complete and accurate data to create an accurate model."
        },
        {
            "cell_type": "markdown",
            "metadata": {},
            "source": "# Data Analysis\n<a name=\"DataAnalysis\"></a>"
        },
        {
            "cell_type": "code",
            "execution_count": 40,
            "metadata": {},
            "outputs": [],
            "source": "df_data_analyze.reset_index(drop=True, inplace=True) #Doesn't matter.. but looks prettier"
        },
        {
            "cell_type": "code",
            "execution_count": 41,
            "metadata": {},
            "outputs": [],
            "source": "y_data = df_data_analyze['SEVERITYCODE']"
        },
        {
            "cell_type": "code",
            "execution_count": 42,
            "metadata": {},
            "outputs": [
                {
                    "data": {
                        "text/plain": "0    0.50\n1    0.25\n2    0.25\n3    0.50\n4    0.25\nName: SEVERITYCODE, dtype: float64"
                    },
                    "execution_count": 42,
                    "metadata": {},
                    "output_type": "execute_result"
                }
            ],
            "source": "y_data.head()"
        },
        {
            "cell_type": "code",
            "execution_count": 43,
            "metadata": {},
            "outputs": [],
            "source": "x_data = df_data_analyze.drop('SEVERITYCODE', axis=1)"
        },
        {
            "cell_type": "code",
            "execution_count": 44,
            "metadata": {},
            "outputs": [
                {
                    "data": {
                        "text/html": "<div>\n<style scoped>\n    .dataframe tbody tr th:only-of-type {\n        vertical-align: middle;\n    }\n\n    .dataframe tbody tr th {\n        vertical-align: top;\n    }\n\n    .dataframe thead th {\n        text-align: right;\n    }\n</style>\n<table border=\"1\" class=\"dataframe\">\n  <thead>\n    <tr style=\"text-align: right;\">\n      <th></th>\n      <th>PERSONCOUNT</th>\n      <th>PEDCOUNT</th>\n      <th>PEDCYLCOUNT</th>\n      <th>VEHCOUNT</th>\n      <th>Angles</th>\n      <th>Cycles</th>\n      <th>Head On</th>\n      <th>Left Turn</th>\n      <th>Parked Car</th>\n      <th>Pedestrian</th>\n      <th>Rear Ended</th>\n      <th>Right Turn</th>\n      <th>Sideswipe</th>\n      <th>At Intersection (but not related to intersection)</th>\n      <th>At Intersection (intersection related)</th>\n      <th>Driveway Junction</th>\n      <th>Mid-Block (but intersection related)</th>\n      <th>Mid-Block (not related to intersection)</th>\n      <th>Ramp Junction</th>\n    </tr>\n  </thead>\n  <tbody>\n    <tr>\n      <th>0</th>\n      <td>0.4</td>\n      <td>0.0</td>\n      <td>0.0</td>\n      <td>0.181818</td>\n      <td>0</td>\n      <td>0</td>\n      <td>0</td>\n      <td>0</td>\n      <td>0</td>\n      <td>0</td>\n      <td>1</td>\n      <td>0</td>\n      <td>0</td>\n      <td>0</td>\n      <td>1</td>\n      <td>0</td>\n      <td>0</td>\n      <td>0</td>\n      <td>0</td>\n    </tr>\n    <tr>\n      <th>1</th>\n      <td>0.4</td>\n      <td>0.0</td>\n      <td>0.0</td>\n      <td>0.181818</td>\n      <td>0</td>\n      <td>0</td>\n      <td>0</td>\n      <td>0</td>\n      <td>0</td>\n      <td>0</td>\n      <td>0</td>\n      <td>0</td>\n      <td>1</td>\n      <td>0</td>\n      <td>0</td>\n      <td>0</td>\n      <td>0</td>\n      <td>1</td>\n      <td>0</td>\n    </tr>\n    <tr>\n      <th>2</th>\n      <td>0.8</td>\n      <td>0.0</td>\n      <td>0.0</td>\n      <td>0.363636</td>\n      <td>0</td>\n      <td>0</td>\n      <td>0</td>\n      <td>0</td>\n      <td>1</td>\n      <td>0</td>\n      <td>0</td>\n      <td>0</td>\n      <td>0</td>\n      <td>0</td>\n      <td>0</td>\n      <td>0</td>\n      <td>0</td>\n      <td>1</td>\n      <td>0</td>\n    </tr>\n    <tr>\n      <th>3</th>\n      <td>0.4</td>\n      <td>0.0</td>\n      <td>0.0</td>\n      <td>0.181818</td>\n      <td>1</td>\n      <td>0</td>\n      <td>0</td>\n      <td>0</td>\n      <td>0</td>\n      <td>0</td>\n      <td>0</td>\n      <td>0</td>\n      <td>0</td>\n      <td>0</td>\n      <td>1</td>\n      <td>0</td>\n      <td>0</td>\n      <td>0</td>\n      <td>0</td>\n    </tr>\n    <tr>\n      <th>4</th>\n      <td>0.6</td>\n      <td>0.0</td>\n      <td>0.0</td>\n      <td>0.181818</td>\n      <td>0</td>\n      <td>0</td>\n      <td>0</td>\n      <td>0</td>\n      <td>0</td>\n      <td>0</td>\n      <td>1</td>\n      <td>0</td>\n      <td>0</td>\n      <td>0</td>\n      <td>0</td>\n      <td>0</td>\n      <td>0</td>\n      <td>1</td>\n      <td>0</td>\n    </tr>\n  </tbody>\n</table>\n</div>",
                        "text/plain": "   PERSONCOUNT  PEDCOUNT  PEDCYLCOUNT  VEHCOUNT  Angles  Cycles  Head On  \\\n0          0.4       0.0          0.0  0.181818       0       0        0   \n1          0.4       0.0          0.0  0.181818       0       0        0   \n2          0.8       0.0          0.0  0.363636       0       0        0   \n3          0.4       0.0          0.0  0.181818       1       0        0   \n4          0.6       0.0          0.0  0.181818       0       0        0   \n\n   Left Turn  Parked Car  Pedestrian  Rear Ended  Right Turn  Sideswipe  \\\n0          0           0           0           1           0          0   \n1          0           0           0           0           0          1   \n2          0           1           0           0           0          0   \n3          0           0           0           0           0          0   \n4          0           0           0           1           0          0   \n\n   At Intersection (but not related to intersection)  \\\n0                                                  0   \n1                                                  0   \n2                                                  0   \n3                                                  0   \n4                                                  0   \n\n   At Intersection (intersection related)  Driveway Junction  \\\n0                                       1                  0   \n1                                       0                  0   \n2                                       0                  0   \n3                                       1                  0   \n4                                       0                  0   \n\n   Mid-Block (but intersection related)  \\\n0                                     0   \n1                                     0   \n2                                     0   \n3                                     0   \n4                                     0   \n\n   Mid-Block (not related to intersection)  Ramp Junction  \n0                                        0              0  \n1                                        1              0  \n2                                        1              0  \n3                                        0              0  \n4                                        1              0  "
                    },
                    "execution_count": 44,
                    "metadata": {},
                    "output_type": "execute_result"
                }
            ],
            "source": "x_data.head()"
        },
        {
            "cell_type": "code",
            "execution_count": 45,
            "metadata": {},
            "outputs": [
                {
                    "name": "stdout",
                    "output_type": "stream",
                    "text": "number of test samples : 23971\nnumber of training samples: 135833\n"
                }
            ],
            "source": "from sklearn.model_selection import train_test_split\n\n\nx_train, x_test, y_train, y_test = train_test_split(x_data, y_data, test_size=0.15, random_state=1)\n\n\nprint(\"number of test samples :\", x_test.shape[0])\nprint(\"number of training samples:\",x_train.shape[0])\n"
        },
        {
            "cell_type": "markdown",
            "metadata": {},
            "source": "## Linear Regression Analysis\n<a name=\"LinearRegressionAnalysis\"></a>"
        },
        {
            "cell_type": "code",
            "execution_count": 46,
            "metadata": {},
            "outputs": [
                {
                    "data": {
                        "text/plain": "LinearRegression(copy_X=True, fit_intercept=True, n_jobs=None,\n         normalize=False)"
                    },
                    "execution_count": 46,
                    "metadata": {},
                    "output_type": "execute_result"
                }
            ],
            "source": "lr = LinearRegression()\nlr.fit(x_train, y_train)"
        },
        {
            "cell_type": "code",
            "execution_count": 47,
            "metadata": {},
            "outputs": [
                {
                    "data": {
                        "text/plain": "0.27347393712870904"
                    },
                    "execution_count": 47,
                    "metadata": {},
                    "output_type": "execute_result"
                }
            ],
            "source": "lr.score(x_train,y_train)"
        },
        {
            "cell_type": "code",
            "execution_count": 48,
            "metadata": {},
            "outputs": [
                {
                    "data": {
                        "text/plain": "0.26888559783825083"
                    },
                    "execution_count": 48,
                    "metadata": {},
                    "output_type": "execute_result"
                }
            ],
            "source": "lr.score(x_test,y_test)"
        },
        {
            "cell_type": "markdown",
            "metadata": {},
            "source": "From the first trial of linear regression, we attained a score of 27% with the training data and 26% from test data"
        },
        {
            "cell_type": "markdown",
            "metadata": {},
            "source": "## Polynomial Feature Analysis\n<a name=\"PolynomialFeatureAnalysis\"></a>"
        },
        {
            "cell_type": "code",
            "execution_count": 49,
            "metadata": {},
            "outputs": [],
            "source": "from sklearn.preprocessing import PolynomialFeatures\n\npr=PolynomialFeatures(degree=2)\nx_train_pr=pr.fit_transform(x_train)\nx_test_pr=pr.fit_transform(x_test)"
        },
        {
            "cell_type": "code",
            "execution_count": 50,
            "metadata": {
                "scrolled": true
            },
            "outputs": [
                {
                    "data": {
                        "text/plain": "LinearRegression(copy_X=True, fit_intercept=True, n_jobs=None,\n         normalize=False)"
                    },
                    "execution_count": 50,
                    "metadata": {},
                    "output_type": "execute_result"
                }
            ],
            "source": "poly = LinearRegression()\npoly.fit(x_train_pr, y_train)"
        },
        {
            "cell_type": "code",
            "execution_count": 51,
            "metadata": {
                "scrolled": true
            },
            "outputs": [
                {
                    "data": {
                        "text/plain": "0.2799345772827011"
                    },
                    "execution_count": 51,
                    "metadata": {},
                    "output_type": "execute_result"
                }
            ],
            "source": "poly.score(x_train_pr, y_train)"
        },
        {
            "cell_type": "code",
            "execution_count": 52,
            "metadata": {},
            "outputs": [
                {
                    "data": {
                        "text/plain": "-7.278571900325142e+17"
                    },
                    "execution_count": 52,
                    "metadata": {},
                    "output_type": "execute_result"
                }
            ],
            "source": "poly.score(x_test_pr, y_test)"
        },
        {
            "cell_type": "markdown",
            "metadata": {},
            "source": "From a simple 2 degree polynomial feature we attain a training score of 27% and a negative number from test data. This is probably not a good model as the test data was not very good at predicting the severity. On any degree greater than 2 takes a lot longer to run for polynomial features and results did not yield any greater improvement. This method is deemed not very viable for our model"
        },
        {
            "cell_type": "markdown",
            "metadata": {},
            "source": "## Ridge Regression Analysis\n<a name=\"RidgeRegressionAnalysis\"></a>"
        },
        {
            "cell_type": "code",
            "execution_count": 53,
            "metadata": {},
            "outputs": [
                {
                    "data": {
                        "text/plain": "Ridge(alpha=0.1, copy_X=True, fit_intercept=True, max_iter=None,\n   normalize=False, random_state=None, solver='auto', tol=0.001)"
                    },
                    "execution_count": 53,
                    "metadata": {},
                    "output_type": "execute_result"
                }
            ],
            "source": "from sklearn.linear_model import Ridge\n\n# Same as the Polynominal Feature Analysis\npr=PolynomialFeatures(degree=2)\nx_train_pr=pr.fit_transform(x_train)\nx_test_pr=pr.fit_transform(x_test)\n\nRigeModel=Ridge(alpha=0.1)\nRigeModel.fit(x_train, y_train)"
        },
        {
            "cell_type": "code",
            "execution_count": 54,
            "metadata": {},
            "outputs": [],
            "source": "Rsqu_test = []\nRsqu_train = []\ndummy1 = []\nALFA = 10 * np.array(range(0,10))\nfor alfa in ALFA:\n    RigeModel = Ridge(alpha=alfa) \n    RigeModel.fit(x_train_pr, y_train)\n    Rsqu_test.append(RigeModel.score(x_test_pr, y_test))\n    Rsqu_train.append(RigeModel.score(x_train_pr, y_train))"
        },
        {
            "cell_type": "code",
            "execution_count": 55,
            "metadata": {},
            "outputs": [
                {
                    "data": {
                        "text/plain": "<matplotlib.legend.Legend at 0x7f1ddfe7fcc0>"
                    },
                    "execution_count": 55,
                    "metadata": {},
                    "output_type": "execute_result"
                },
                {
                    "data": {
                        "image/png": "[encoded data removed]",
                        "text/plain": "<Figure size 864x720 with 1 Axes>"
                    },
                    "metadata": {
                        "needs_background": "light"
                    },
                    "output_type": "display_data"
                }
            ],
            "source": "width = 12\nheight = 10\nplt.figure(figsize=(width, height))\n\nplt.plot(ALFA,Rsqu_test, label='validation data  ')\nplt.plot(ALFA,Rsqu_train, 'r', label='training Data ')\nplt.xlabel('alpha')\nplt.ylabel('R^2')\nplt.legend()"
        },
        {
            "cell_type": "code",
            "execution_count": 56,
            "metadata": {},
            "outputs": [
                {
                    "data": {
                        "text/plain": "0.2717248036005492"
                    },
                    "execution_count": 56,
                    "metadata": {},
                    "output_type": "execute_result"
                }
            ],
            "source": "RigeModel = Ridge(alpha=10) \nRigeModel.fit(x_train_pr, y_train)\nRigeModel.score(x_test_pr, y_test)"
        },
        {
            "cell_type": "markdown",
            "metadata": {},
            "source": "Keeping the polynomial to degree 2 we used ridge regression to determine the best alpha. We attained 27% with test data"
        },
        {
            "cell_type": "markdown",
            "metadata": {},
            "source": "## Grid Search Analysis\n<a name=\"GridSearchAnalysis\"></a>"
        },
        {
            "cell_type": "code",
            "execution_count": 57,
            "metadata": {},
            "outputs": [],
            "source": "from sklearn.model_selection import GridSearchCV"
        },
        {
            "cell_type": "code",
            "execution_count": 58,
            "metadata": {},
            "outputs": [
                {
                    "data": {
                        "text/plain": "[{'alpha': [0.001, 0.1, 1, 10, 100, 1000, 10000, 100000, 100000]}]"
                    },
                    "execution_count": 58,
                    "metadata": {},
                    "output_type": "execute_result"
                }
            ],
            "source": "parameters1= [{'alpha': [0.001,0.1,1, 10, 100, 1000, 10000, 100000, 100000]}]\nparameters1"
        },
        {
            "cell_type": "code",
            "execution_count": 59,
            "metadata": {},
            "outputs": [
                {
                    "data": {
                        "text/plain": "Ridge(alpha=1.0, copy_X=True, fit_intercept=True, max_iter=None,\n   normalize=False, random_state=None, solver='auto', tol=0.001)"
                    },
                    "execution_count": 59,
                    "metadata": {},
                    "output_type": "execute_result"
                }
            ],
            "source": "RR=Ridge()\nRR"
        },
        {
            "cell_type": "code",
            "execution_count": 60,
            "metadata": {},
            "outputs": [],
            "source": "Grid1 = GridSearchCV(RR, parameters1,cv=4)"
        },
        {
            "cell_type": "code",
            "execution_count": 61,
            "metadata": {},
            "outputs": [
                {
                    "data": {
                        "text/plain": "GridSearchCV(cv=4, error_score='raise-deprecating',\n       estimator=Ridge(alpha=1.0, copy_X=True, fit_intercept=True, max_iter=None,\n   normalize=False, random_state=None, solver='auto', tol=0.001),\n       fit_params=None, iid='warn', n_jobs=None,\n       param_grid=[{'alpha': [0.001, 0.1, 1, 10, 100, 1000, 10000, 100000, 100000]}],\n       pre_dispatch='2*n_jobs', refit=True, return_train_score='warn',\n       scoring=None, verbose=0)"
                    },
                    "execution_count": 61,
                    "metadata": {},
                    "output_type": "execute_result"
                }
            ],
            "source": "Grid1.fit(x_data, y_data)\n"
        },
        {
            "cell_type": "code",
            "execution_count": 62,
            "metadata": {},
            "outputs": [
                {
                    "data": {
                        "text/plain": "Ridge(alpha=0.001, copy_X=True, fit_intercept=True, max_iter=None,\n   normalize=False, random_state=None, solver='auto', tol=0.001)"
                    },
                    "execution_count": 62,
                    "metadata": {},
                    "output_type": "execute_result"
                }
            ],
            "source": "BestRR=Grid1.best_estimator_\nBestRR"
        },
        {
            "cell_type": "code",
            "execution_count": 63,
            "metadata": {},
            "outputs": [
                {
                    "data": {
                        "text/plain": "0.269348084062327"
                    },
                    "execution_count": 63,
                    "metadata": {},
                    "output_type": "execute_result"
                }
            ],
            "source": "BestRR.score(x_test, y_test)"
        },
        {
            "cell_type": "code",
            "execution_count": 64,
            "metadata": {},
            "outputs": [
                {
                    "data": {
                        "text/plain": "Ridge(alpha=0.001, copy_X=True, fit_intercept=True, max_iter=None,\n   normalize=True, random_state=None, solver='auto', tol=0.001)"
                    },
                    "execution_count": 64,
                    "metadata": {},
                    "output_type": "execute_result"
                }
            ],
            "source": "parameters2= [{'alpha': [0.001,0.1,1, 10, 100, 1000,10000,100000,100000],'normalize':[True,False]} ]\nGrid2 = GridSearchCV(Ridge(), parameters2,cv=4)\nGrid2.fit(x_data,y_data)\nGrid2.best_estimator_"
        },
        {
            "cell_type": "code",
            "execution_count": 65,
            "metadata": {},
            "outputs": [
                {
                    "data": {
                        "text/plain": "0.2734150217488033"
                    },
                    "execution_count": 65,
                    "metadata": {},
                    "output_type": "execute_result"
                }
            ],
            "source": "RigeModel = Ridge(alpha=0.001) \nRigeModel.fit(x_train_pr, y_train)\nRigeModel.score(x_test_pr, y_test)"
        },
        {
            "cell_type": "markdown",
            "metadata": {},
            "source": "The grid search has determined that the best alpha for the ridge model would be 0.001 and has attained a score of 27%"
        },
        {
            "cell_type": "markdown",
            "metadata": {},
            "source": "# Result and Discussion\n<a name=\"ResultAndDiscussion\"></a>"
        },
        {
            "cell_type": "markdown",
            "metadata": {},
            "source": "The analysis shows that there is not as much correlation from the features we have picked to determine the severity code. While we do have a 27% R^2 with the features we have picked, determining the severity of a collision may need more data. While checking the correlation of the data, there was not much correlation to begin with. \n\nSome other future improvement can include, taking out more outliers, gathering more data, and attempt to build a neural network model. Some of the data we can take out are the vehicle count. The correlation to the severity code is not much. Other things we can do to improve the model is to build one for just auto to auto related collisions and take out any pedalcyclist and pedestrian collisions to be made into another model. Data we can try to gather for the next round of analysis, we can get geo spatial data and weather data to determine if certain areas may contain more sever collisions. Lastly, a neural network may aid in better results than a simple linear or polynomial regression."
        },
        {
            "cell_type": "markdown",
            "metadata": {},
            "source": "# Conclusion\n<a name=\"Conclusion\"></a>"
        },
        {
            "cell_type": "markdown",
            "metadata": {},
            "source": "The purpose of this project is to determine the severity of a collision by the data provided. From our analysis we have built a model with 27% accuracy. While this is not the best outcome, there are potentially may more data we can add to the analysis. We have learned many lessons from this round of analysis and will be applying the lessons to refine our model accuracy. \n\nThe stakeholder can use the model as a recommender system for dispatch but as a recommendation of what the severity code is, but the decision should be up ultimately to the user."
        }
    ],
    "metadata": {
        "kernelspec": {
            "display_name": "Python 3.6",
            "language": "python",
            "name": "python3"
        },
        "language_info": {
            "codemirror_mode": {
                "name": "ipython",
                "version": 3
            },
            "file_extension": ".py",
            "mimetype": "text/x-python",
            "name": "python",
            "nbconvert_exporter": "python",
            "pygments_lexer": "ipython3",
            "version": "3.6.9"
        }
    },
    "nbformat": 4,
    "nbformat_minor": 1
}