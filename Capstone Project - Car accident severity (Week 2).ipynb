{
    "cells": [
        {
            "cell_type": "markdown",
            "metadata": {
                "collapsed": true
            },
            "source": "# Capstone Project - Car Accident Severity\n\nhttps://www.coursera.org/learn/applied-data-science-capstone"
        },
        {
            "cell_type": "markdown",
            "metadata": {},
            "source": "A description of the problem and a discussion of the background. \n\nA description of the data and how it will be used to solve the problem."
        },
        {
            "cell_type": "markdown",
            "metadata": {},
            "source": "# Introduction: Business Understanding/Problem"
        },
        {
            "cell_type": "markdown",
            "metadata": {},
            "source": "In this project we are trying to determine the severity of a car accident in Seattle and how we can prevent severe car accidents.\n\nDispatch has a tough enough job already. We are interested in helping dispatches' day to day job with a recommender system to determine the severity of a car accident to determine law enforcement response and medical response.\n\nWe will generate a model from our data analysis to better predict the severity of the accident. We hope that this will better help dispatch, allocate the right amount of resource to the issue at hand, and protect the citizens of Seattle"
        },
        {
            "cell_type": "markdown",
            "metadata": {},
            "source": "# Data understanding"
        },
        {
            "cell_type": "markdown",
            "metadata": {},
            "source": "Let's look at the data to determine what we have."
        },
        {
            "cell_type": "code",
            "execution_count": 1,
            "metadata": {
                "scrolled": true
            },
            "outputs": [
                {
                    "name": "stderr",
                    "output_type": "stream",
                    "text": "/opt/conda/envs/Python36/lib/python3.6/site-packages/IPython/core/interactiveshell.py:3020: DtypeWarning: Columns (33) have mixed types. Specify dtype option on import or set low_memory=False.\n  interactivity=interactivity, compiler=compiler, result=result)\n"
                },
                {
                    "data": {
                        "text/html": "<div>\n<style scoped>\n    .dataframe tbody tr th:only-of-type {\n        vertical-align: middle;\n    }\n\n    .dataframe tbody tr th {\n        vertical-align: top;\n    }\n\n    .dataframe thead th {\n        text-align: right;\n    }\n</style>\n<table border=\"1\" class=\"dataframe\">\n  <thead>\n    <tr style=\"text-align: right;\">\n      <th></th>\n      <th>SEVERITYCODE</th>\n      <th>X</th>\n      <th>Y</th>\n      <th>OBJECTID</th>\n      <th>INCKEY</th>\n      <th>COLDETKEY</th>\n      <th>REPORTNO</th>\n      <th>STATUS</th>\n      <th>ADDRTYPE</th>\n      <th>INTKEY</th>\n      <th>...</th>\n      <th>ROADCOND</th>\n      <th>LIGHTCOND</th>\n      <th>PEDROWNOTGRNT</th>\n      <th>SDOTCOLNUM</th>\n      <th>SPEEDING</th>\n      <th>ST_COLCODE</th>\n      <th>ST_COLDESC</th>\n      <th>SEGLANEKEY</th>\n      <th>CROSSWALKKEY</th>\n      <th>HITPARKEDCAR</th>\n    </tr>\n  </thead>\n  <tbody>\n    <tr>\n      <th>0</th>\n      <td>2</td>\n      <td>-122.323148</td>\n      <td>47.703140</td>\n      <td>1</td>\n      <td>1307</td>\n      <td>1307</td>\n      <td>3502005</td>\n      <td>Matched</td>\n      <td>Intersection</td>\n      <td>37475.0</td>\n      <td>...</td>\n      <td>Wet</td>\n      <td>Daylight</td>\n      <td>NaN</td>\n      <td>NaN</td>\n      <td>NaN</td>\n      <td>10</td>\n      <td>Entering at angle</td>\n      <td>0</td>\n      <td>0</td>\n      <td>N</td>\n    </tr>\n    <tr>\n      <th>1</th>\n      <td>1</td>\n      <td>-122.347294</td>\n      <td>47.647172</td>\n      <td>2</td>\n      <td>52200</td>\n      <td>52200</td>\n      <td>2607959</td>\n      <td>Matched</td>\n      <td>Block</td>\n      <td>NaN</td>\n      <td>...</td>\n      <td>Wet</td>\n      <td>Dark - Street Lights On</td>\n      <td>NaN</td>\n      <td>6354039.0</td>\n      <td>NaN</td>\n      <td>11</td>\n      <td>From same direction - both going straight - bo...</td>\n      <td>0</td>\n      <td>0</td>\n      <td>N</td>\n    </tr>\n    <tr>\n      <th>2</th>\n      <td>1</td>\n      <td>-122.334540</td>\n      <td>47.607871</td>\n      <td>3</td>\n      <td>26700</td>\n      <td>26700</td>\n      <td>1482393</td>\n      <td>Matched</td>\n      <td>Block</td>\n      <td>NaN</td>\n      <td>...</td>\n      <td>Dry</td>\n      <td>Daylight</td>\n      <td>NaN</td>\n      <td>4323031.0</td>\n      <td>NaN</td>\n      <td>32</td>\n      <td>One parked--one moving</td>\n      <td>0</td>\n      <td>0</td>\n      <td>N</td>\n    </tr>\n    <tr>\n      <th>3</th>\n      <td>1</td>\n      <td>-122.334803</td>\n      <td>47.604803</td>\n      <td>4</td>\n      <td>1144</td>\n      <td>1144</td>\n      <td>3503937</td>\n      <td>Matched</td>\n      <td>Block</td>\n      <td>NaN</td>\n      <td>...</td>\n      <td>Dry</td>\n      <td>Daylight</td>\n      <td>NaN</td>\n      <td>NaN</td>\n      <td>NaN</td>\n      <td>23</td>\n      <td>From same direction - all others</td>\n      <td>0</td>\n      <td>0</td>\n      <td>N</td>\n    </tr>\n    <tr>\n      <th>4</th>\n      <td>2</td>\n      <td>-122.306426</td>\n      <td>47.545739</td>\n      <td>5</td>\n      <td>17700</td>\n      <td>17700</td>\n      <td>1807429</td>\n      <td>Matched</td>\n      <td>Intersection</td>\n      <td>34387.0</td>\n      <td>...</td>\n      <td>Wet</td>\n      <td>Daylight</td>\n      <td>NaN</td>\n      <td>4028032.0</td>\n      <td>NaN</td>\n      <td>10</td>\n      <td>Entering at angle</td>\n      <td>0</td>\n      <td>0</td>\n      <td>N</td>\n    </tr>\n  </tbody>\n</table>\n<p>5 rows \u00d7 38 columns</p>\n</div>",
                        "text/plain": "   SEVERITYCODE           X          Y  OBJECTID  INCKEY  COLDETKEY REPORTNO  \\\n0             2 -122.323148  47.703140         1    1307       1307  3502005   \n1             1 -122.347294  47.647172         2   52200      52200  2607959   \n2             1 -122.334540  47.607871         3   26700      26700  1482393   \n3             1 -122.334803  47.604803         4    1144       1144  3503937   \n4             2 -122.306426  47.545739         5   17700      17700  1807429   \n\n    STATUS      ADDRTYPE   INTKEY  ... ROADCOND                LIGHTCOND  \\\n0  Matched  Intersection  37475.0  ...      Wet                 Daylight   \n1  Matched         Block      NaN  ...      Wet  Dark - Street Lights On   \n2  Matched         Block      NaN  ...      Dry                 Daylight   \n3  Matched         Block      NaN  ...      Dry                 Daylight   \n4  Matched  Intersection  34387.0  ...      Wet                 Daylight   \n\n  PEDROWNOTGRNT  SDOTCOLNUM SPEEDING ST_COLCODE  \\\n0           NaN         NaN      NaN         10   \n1           NaN   6354039.0      NaN         11   \n2           NaN   4323031.0      NaN         32   \n3           NaN         NaN      NaN         23   \n4           NaN   4028032.0      NaN         10   \n\n                                          ST_COLDESC  SEGLANEKEY  \\\n0                                  Entering at angle           0   \n1  From same direction - both going straight - bo...           0   \n2                             One parked--one moving           0   \n3                   From same direction - all others           0   \n4                                  Entering at angle           0   \n\n   CROSSWALKKEY  HITPARKEDCAR  \n0             0             N  \n1             0             N  \n2             0             N  \n3             0             N  \n4             0             N  \n\n[5 rows x 38 columns]"
                    },
                    "execution_count": 1,
                    "metadata": {},
                    "output_type": "execute_result"
                }
            ],
            "source": "# The code was removed by Watson Studio for sharing."
        },
        {
            "cell_type": "markdown",
            "metadata": {},
            "source": "There are 37 attributes we can choose from to use in our model to predict the severity code"
        },
        {
            "cell_type": "code",
            "execution_count": 2,
            "metadata": {},
            "outputs": [
                {
                    "data": {
                        "text/plain": "1    136485\n2     58188\nName: SEVERITYCODE, dtype: int64"
                    },
                    "execution_count": 2,
                    "metadata": {},
                    "output_type": "execute_result"
                }
            ],
            "source": "df_data['SEVERITYCODE'].value_counts(dropna=False)"
        },
        {
            "cell_type": "markdown",
            "metadata": {},
            "source": "According to the metadata, there should be 5 types of severity.\n* 3-fatality\n* 2b-serious injury\n* 2-injury\n* 1-property damage\n* 0-unknown\n\nIt is concerning that the data provided only has severity types 1 and 2. This may severely impact the machine learning model and does not provide us with sufficient data to determine all the types of severity."
        },
        {
            "cell_type": "markdown",
            "metadata": {},
            "source": "It has been determined that the above dataset is insufficient so we have went out and found a more updates data set from Kaggle\n\nhttps://www.kaggle.com/jonleon/seattle-sdot-collisions-data"
        },
        {
            "cell_type": "code",
            "execution_count": 3,
            "metadata": {},
            "outputs": [
                {
                    "data": {
                        "text/html": "<div>\n<style scoped>\n    .dataframe tbody tr th:only-of-type {\n        vertical-align: middle;\n    }\n\n    .dataframe tbody tr th {\n        vertical-align: top;\n    }\n\n    .dataframe thead th {\n        text-align: right;\n    }\n</style>\n<table border=\"1\" class=\"dataframe\">\n  <thead>\n    <tr style=\"text-align: right;\">\n      <th></th>\n      <th>X</th>\n      <th>Y</th>\n      <th>OBJECTID</th>\n      <th>INCKEY</th>\n      <th>COLDETKEY</th>\n      <th>REPORTNO</th>\n      <th>STATUS</th>\n      <th>ADDRTYPE</th>\n      <th>INTKEY</th>\n      <th>LOCATION</th>\n      <th>...</th>\n      <th>ROADCOND</th>\n      <th>LIGHTCOND</th>\n      <th>PEDROWNOTGRNT</th>\n      <th>SDOTCOLNUM</th>\n      <th>SPEEDING</th>\n      <th>ST_COLCODE</th>\n      <th>ST_COLDESC</th>\n      <th>SEGLANEKEY</th>\n      <th>CROSSWALKKEY</th>\n      <th>HITPARKEDCAR</th>\n    </tr>\n  </thead>\n  <tbody>\n    <tr>\n      <th>0</th>\n      <td>-122.392900</td>\n      <td>47.648646</td>\n      <td>1</td>\n      <td>332176</td>\n      <td>333676</td>\n      <td>EA40602</td>\n      <td>Matched</td>\n      <td>Intersection</td>\n      <td>26581.0</td>\n      <td>28TH AVE W AND W DRAVUS ST</td>\n      <td>...</td>\n      <td>Dry</td>\n      <td>Daylight</td>\n      <td>NaN</td>\n      <td>NaN</td>\n      <td>NaN</td>\n      <td>14</td>\n      <td>From same direction - both going straight - on...</td>\n      <td>0</td>\n      <td>0</td>\n      <td>N</td>\n    </tr>\n    <tr>\n      <th>1</th>\n      <td>-122.284487</td>\n      <td>47.603308</td>\n      <td>2</td>\n      <td>328504</td>\n      <td>330004</td>\n      <td>EA10294</td>\n      <td>Unmatched</td>\n      <td>Block</td>\n      <td>NaN</td>\n      <td>LAKE WASHINGTON BLVD BETWEEN LAKESIDE AVE AND ...</td>\n      <td>...</td>\n      <td>NaN</td>\n      <td>NaN</td>\n      <td>NaN</td>\n      <td>NaN</td>\n      <td>NaN</td>\n      <td></td>\n      <td>NaN</td>\n      <td>0</td>\n      <td>0</td>\n      <td>Y</td>\n    </tr>\n    <tr>\n      <th>2</th>\n      <td>-122.338480</td>\n      <td>47.619119</td>\n      <td>3</td>\n      <td>329091</td>\n      <td>330591</td>\n      <td>EA15604</td>\n      <td>Matched</td>\n      <td>Block</td>\n      <td>NaN</td>\n      <td>WESTLAKE AVE N BETWEEN DENNY WAY AND JOHN ST</td>\n      <td>...</td>\n      <td>Dry</td>\n      <td>Daylight</td>\n      <td>NaN</td>\n      <td>NaN</td>\n      <td>NaN</td>\n      <td>11</td>\n      <td>From same direction - both going straight - bo...</td>\n      <td>0</td>\n      <td>0</td>\n      <td>N</td>\n    </tr>\n    <tr>\n      <th>3</th>\n      <td>-122.358307</td>\n      <td>47.653110</td>\n      <td>4</td>\n      <td>328274</td>\n      <td>329774</td>\n      <td>EA07215</td>\n      <td>Matched</td>\n      <td>Block</td>\n      <td>NaN</td>\n      <td>NW 36TH ST BETWEEN 1ST AVE NW AND LEARY WAY NW</td>\n      <td>...</td>\n      <td>Wet</td>\n      <td>Dark - Street Lights On</td>\n      <td>NaN</td>\n      <td>NaN</td>\n      <td>NaN</td>\n      <td>32</td>\n      <td>One parked--one moving</td>\n      <td>0</td>\n      <td>0</td>\n      <td>Y</td>\n    </tr>\n    <tr>\n      <th>4</th>\n      <td>-122.296519</td>\n      <td>47.733786</td>\n      <td>5</td>\n      <td>329003</td>\n      <td>330503</td>\n      <td>E986969</td>\n      <td>Matched</td>\n      <td>Intersection</td>\n      <td>35990.0</td>\n      <td>30TH AVE NE AND NE 145TH ST</td>\n      <td>...</td>\n      <td>Dry</td>\n      <td>Daylight</td>\n      <td>NaN</td>\n      <td>NaN</td>\n      <td>NaN</td>\n      <td>10</td>\n      <td>Entering at angle</td>\n      <td>0</td>\n      <td>0</td>\n      <td>N</td>\n    </tr>\n  </tbody>\n</table>\n<p>5 rows \u00d7 40 columns</p>\n</div>",
                        "text/plain": "            X          Y  OBJECTID  INCKEY  COLDETKEY REPORTNO     STATUS  \\\n0 -122.392900  47.648646         1  332176     333676  EA40602    Matched   \n1 -122.284487  47.603308         2  328504     330004  EA10294  Unmatched   \n2 -122.338480  47.619119         3  329091     330591  EA15604    Matched   \n3 -122.358307  47.653110         4  328274     329774  EA07215    Matched   \n4 -122.296519  47.733786         5  329003     330503  E986969    Matched   \n\n       ADDRTYPE   INTKEY                                           LOCATION  \\\n0  Intersection  26581.0                         28TH AVE W AND W DRAVUS ST   \n1         Block      NaN  LAKE WASHINGTON BLVD BETWEEN LAKESIDE AVE AND ...   \n2         Block      NaN       WESTLAKE AVE N BETWEEN DENNY WAY AND JOHN ST   \n3         Block      NaN     NW 36TH ST BETWEEN 1ST AVE NW AND LEARY WAY NW   \n4  Intersection  35990.0                        30TH AVE NE AND NE 145TH ST   \n\n   ... ROADCOND                LIGHTCOND PEDROWNOTGRNT SDOTCOLNUM SPEEDING  \\\n0  ...      Dry                 Daylight           NaN        NaN      NaN   \n1  ...      NaN                      NaN           NaN        NaN      NaN   \n2  ...      Dry                 Daylight           NaN        NaN      NaN   \n3  ...      Wet  Dark - Street Lights On           NaN        NaN      NaN   \n4  ...      Dry                 Daylight           NaN        NaN      NaN   \n\n   ST_COLCODE                                         ST_COLDESC  SEGLANEKEY  \\\n0          14  From same direction - both going straight - on...           0   \n1                                                            NaN           0   \n2          11  From same direction - both going straight - bo...           0   \n3          32                             One parked--one moving           0   \n4          10                                  Entering at angle           0   \n\n   CROSSWALKKEY  HITPARKEDCAR  \n0             0             N  \n1             0             Y  \n2             0             N  \n3             0             Y  \n4             0             N  \n\n[5 rows x 40 columns]"
                    },
                    "execution_count": 3,
                    "metadata": {},
                    "output_type": "execute_result"
                }
            ],
            "source": "# The code was removed by Watson Studio for sharing."
        },
        {
            "cell_type": "code",
            "execution_count": 4,
            "metadata": {},
            "outputs": [
                {
                    "data": {
                        "text/plain": "1      137297\n2       58607\n0       21593\n2b       3090\n3         349\nNaN         1\nName: SEVERITYCODE, dtype: int64"
                    },
                    "execution_count": 4,
                    "metadata": {},
                    "output_type": "execute_result"
                }
            ],
            "source": "df_data_updated['SEVERITYCODE'].value_counts(dropna=False)"
        },
        {
            "cell_type": "markdown",
            "metadata": {},
            "source": "Alright! This is more like it!"
        },
        {
            "attachments": {},
            "cell_type": "markdown",
            "metadata": {},
            "source": "We will be using the following attributes to determine the severity code:\n* COLLISIONTYPE\n* PERSONCOUNT\n* PEDCOUNT\n* PEDCYLCOUNT\n* VEHCOUNT\n* JUNCTIONTYPE\n\nSome other attributes we may also dwell is the weather and surrounding conditions such as:\n* WEATHER\n* ROADCOND\n* LIGHTCOND"
        },
        {
            "cell_type": "code",
            "execution_count": null,
            "metadata": {},
            "outputs": [],
            "source": ""
        }
    ],
    "metadata": {
        "kernelspec": {
            "display_name": "Python 3.6",
            "language": "python",
            "name": "python3"
        },
        "language_info": {
            "codemirror_mode": {
                "name": "ipython",
                "version": 3
            },
            "file_extension": ".py",
            "mimetype": "text/x-python",
            "name": "python",
            "nbconvert_exporter": "python",
            "pygments_lexer": "ipython3",
            "version": "3.6.9"
        }
    },
    "nbformat": 4,
    "nbformat_minor": 1
}